{
 "cells": [
  {
   "cell_type": "code",
   "execution_count": 2,
   "id": "05cd0a75",
   "metadata": {},
   "outputs": [
    {
     "name": "stdout",
     "output_type": "stream",
     "text": [
      "Enter 1st number : 56\n",
      "Enter 2nd number : 35\n",
      "n1 = 35 n2 = 56\n"
     ]
    }
   ],
   "source": [
    "# 1. Write a program in Python to\n",
    "#swap two numbers without using third variable?\n",
    "\n",
    "def swap_number(n1,n2):\n",
    "    n2,n1 = n1,n2\n",
    "    print(f'n1 = {n1} n2 = {n2}')\n",
    "    \n",
    "n1 = int(input('Enter 1st number : '))\n",
    "n2 = int(input('Enter 2nd number : '))\n",
    "\n",
    "swap_number(n1,n2)"
   ]
  },
  {
   "cell_type": "code",
   "execution_count": 3,
   "id": "26ed7d26",
   "metadata": {},
   "outputs": [
    {
     "name": "stdout",
     "output_type": "stream",
     "text": [
      "Enter the first number : 96\n",
      "Enter the second number : 158\n",
      "n1 = 158 n2 = 96\n"
     ]
    }
   ],
   "source": [
    "# 2. Write a program in Python \n",
    "#to swap two numbers using third variable?\n",
    "\n",
    "def swap_number(n1,n2):\n",
    "    temp = n1\n",
    "    n1 = n2\n",
    "    n2 = temp\n",
    "    \n",
    "    print(f\"n1 = {n1} n2 = {n2}\")\n",
    "    \n",
    "n1 = int(input('Enter the first number : '))\n",
    "n2 = int(input('Enter the second number : '))\n",
    "\n",
    "swap_number(n1,n2)"
   ]
  },
  {
   "cell_type": "code",
   "execution_count": 6,
   "id": "3633cc63",
   "metadata": {},
   "outputs": [
    {
     "name": "stdout",
     "output_type": "stream",
     "text": [
      "Enter the number to get prime factor : 200\n",
      "Prime factors of given number are : [2, 2, 2, 5, 5]\n"
     ]
    }
   ],
   "source": [
    "# 3. Write a program in Python \n",
    "#to find prime factors of a given integer.\n",
    "\n",
    "def get_prime_factor(num):\n",
    "    prime_factor = []\n",
    "    while num > 0:\n",
    "        for i in range(2,int(num/2)+1):\n",
    "            if num % i == 0:\n",
    "                prime_factor.append(i)\n",
    "                num = num // i\n",
    "                break\n",
    "            else:\n",
    "                continue\n",
    "        else:\n",
    "            prime_factor.append(num)\n",
    "            break\n",
    "    return prime_factor\n",
    "\n",
    "num = int(input('Enter the number to get prime factor : '))\n",
    "print('Prime factors of given number are :',get_prime_factor(num))"
   ]
  },
  {
   "cell_type": "code",
   "execution_count": 7,
   "id": "94f9fc6b",
   "metadata": {},
   "outputs": [
    {
     "name": "stdout",
     "output_type": "stream",
     "text": [
      "Enter the number 1 : 85\n",
      "Enter the number 2 : 52\n",
      "Addition without Arithmatic operator : 137\n"
     ]
    }
   ],
   "source": [
    "# 4. Write a program in Python to \n",
    "#add two integer without using arithmetic operator?\n",
    "\n",
    "num1 = int(input('Enter the number 1 : '))\n",
    "num2 = int(input('Enter the number 2 : '))\n",
    "\n",
    "def add_without_operator(n1,n2):\n",
    "    while (n2 != 0):\n",
    "        c = n1 & n2\n",
    "        n1 = n1 ^ n2\n",
    "        n2 = c << 1\n",
    "    return n1\n",
    "\n",
    "print('Addition without Arithmatic operator :',add_without_operator(num1,num2))"
   ]
  },
  {
   "cell_type": "code",
   "execution_count": 10,
   "id": "3ba99695",
   "metadata": {},
   "outputs": [
    {
     "name": "stdout",
     "output_type": "stream",
     "text": [
      "Enter the number to wheather it is perfect or not : 28\n",
      "The number 28 perfect number..\n"
     ]
    }
   ],
   "source": [
    "# 5. Write a program in Python to find given number is perfect or not?\n",
    "# perfect number is any number whose factor addition sum is that number\n",
    "\n",
    "num = int(input('Enter the number to wheather it is perfect or not : '))\n",
    "addition = 0\n",
    "\n",
    "for i in range(1,num):\n",
    "    if num % i == 0:\n",
    "        addition += i\n",
    "if addition == num:\n",
    "    print('The number',num,'perfect number..')\n",
    "else:\n",
    "    print('Number is not perfect')"
   ]
  },
  {
   "cell_type": "code",
   "execution_count": 11,
   "id": "0ec78877",
   "metadata": {},
   "outputs": [
    {
     "name": "stdout",
     "output_type": "stream",
     "text": [
      "Average of numbers is : 56.6\n"
     ]
    }
   ],
   "source": [
    "# 6. Python Program to find the Average of numbers with explanations.\n",
    "\n",
    "numbers = [12,53,87,33,98]\n",
    "avg = sum(numbers)/len(numbers)\n",
    "print('Average of numbers is :',avg)"
   ]
  },
  {
   "cell_type": "code",
   "execution_count": 12,
   "id": "ac4426b6",
   "metadata": {},
   "outputs": [
    {
     "name": "stdout",
     "output_type": "stream",
     "text": [
      "Enter the number to get factorial : 5\n",
      "The factorial of 5 is : 120\n"
     ]
    }
   ],
   "source": [
    "# 7. Python Program to calculate factorial using iterative method.\n",
    "\n",
    "def factorial(num):\n",
    "    fact = 1\n",
    "    for i in range(1,num+1):\n",
    "        fact *= i\n",
    "    return fact\n",
    "\n",
    "num = int(input('Enter the number to get factorial : '))\n",
    "\n",
    "print('The factorial of',num,'is :',factorial(num))"
   ]
  },
  {
   "cell_type": "code",
   "execution_count": 14,
   "id": "2169a7b2",
   "metadata": {},
   "outputs": [
    {
     "name": "stdout",
     "output_type": "stream",
     "text": [
      "Enter the number : 6\n",
      "The factorial of 6 is : 720\n"
     ]
    }
   ],
   "source": [
    "# 8. Python programme to calculate factorial using recursion.\n",
    "\n",
    "def factorial(num):\n",
    "    if num == 1:\n",
    "        return 1\n",
    "    else:\n",
    "        return num * factorial(num-1)\n",
    "    \n",
    "num = int(input('Enter the number : '))\n",
    "\n",
    "if num < 0:\n",
    "    print('Enter the positive number')\n",
    "elif num == 0:\n",
    "    print('Factorial of 0 is 1')\n",
    "else:\n",
    "    print('The factorial of',num,'is :',factorial(num))"
   ]
  },
  {
   "cell_type": "code",
   "execution_count": 16,
   "id": "39028d23",
   "metadata": {},
   "outputs": [
    {
     "name": "stdout",
     "output_type": "stream",
     "text": [
      "Enter the number : 6\n",
      "The number is EVEN\n"
     ]
    }
   ],
   "source": [
    "# 9. Python programme cheque number is even or odd\n",
    "\n",
    "def odd_even(num):\n",
    "    if num % 2 == 0:\n",
    "        print('The number is EVEN')\n",
    "    else:\n",
    "        print('The number is ODD')\n",
    "        \n",
    "num = int(input('Enter the number : '))\n",
    "\n",
    "odd_even(num)"
   ]
  },
  {
   "cell_type": "code",
   "execution_count": 17,
   "id": "ffa41ec6",
   "metadata": {},
   "outputs": [
    {
     "name": "stdout",
     "output_type": "stream",
     "text": [
      "Enter the starting number : 0\n",
      "Enter the ending number : 105\n",
      "The prime number in the given range are : [2, 3, 5, 7, 11, 13, 17, 19, 23, 29, 31, 37, 41, 43, 47, 53, 59, 61, 67, 71, 73, 79, 83, 89, 97, 101, 103]\n"
     ]
    }
   ],
   "source": [
    "# 10. Python programme for first N Prime numbers\n",
    "\n",
    "def get_prime_number(n1,n2):\n",
    "    prime_list = []\n",
    "    for i in range(n1,n2):\n",
    "        if i ==0 or i == 1:\n",
    "            continue\n",
    "        else:\n",
    "            for j in range(2, int(i/2)+1):\n",
    "                if i%j == 0:\n",
    "                    break\n",
    "            else:\n",
    "                prime_list.append(i)\n",
    "    return prime_list\n",
    "num1 = int(input('Enter the starting number : '))\n",
    "num2 = int(input('Enter the ending number : '))\n",
    "numbers = get_prime_number(num1,num2)\n",
    "\n",
    "if numbers == 0:\n",
    "    print('There are no prime numbers in this range')\n",
    "else:\n",
    "    print('The prime number in the given range are :',numbers)"
   ]
  },
  {
   "cell_type": "code",
   "execution_count": null,
   "id": "e27842b5",
   "metadata": {},
   "outputs": [],
   "source": []
  }
 ],
 "metadata": {
  "kernelspec": {
   "display_name": "Python 3 (ipykernel)",
   "language": "python",
   "name": "python3"
  },
  "language_info": {
   "codemirror_mode": {
    "name": "ipython",
    "version": 3
   },
   "file_extension": ".py",
   "mimetype": "text/x-python",
   "name": "python",
   "nbconvert_exporter": "python",
   "pygments_lexer": "ipython3",
   "version": "3.9.13"
  }
 },
 "nbformat": 4,
 "nbformat_minor": 5
}
