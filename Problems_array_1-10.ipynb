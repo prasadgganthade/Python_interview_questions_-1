{
 "cells": [
  {
   "cell_type": "markdown",
   "id": "95d6556e",
   "metadata": {},
   "source": [
    "### 1. Write a program in Python for, In array 1-100 numbers are stored, one number is missing how do you find it."
   ]
  },
  {
   "cell_type": "code",
   "execution_count": 2,
   "id": "39ee95ec",
   "metadata": {},
   "outputs": [
    {
     "name": "stdout",
     "output_type": "stream",
     "text": [
      "[8]\n"
     ]
    }
   ],
   "source": [
    "arr = [1,2,3,4,5,6,7,9,10]\n",
    "missing_element = []\n",
    "for element in range(arr[0],arr[-1]+1):\n",
    "    if element not in arr:\n",
    "        missing_element.append(element)\n",
    "print(missing_element)"
   ]
  },
  {
   "cell_type": "markdown",
   "id": "7459170e",
   "metadata": {},
   "source": [
    "### 2. Write a program in Python for, In a array 1-100 multiple numbers are duplicates, how do you find it."
   ]
  },
  {
   "cell_type": "code",
   "execution_count": 1,
   "id": "88ec3567",
   "metadata": {},
   "outputs": [
    {
     "name": "stdout",
     "output_type": "stream",
     "text": [
      "Duplicate elements are :\n",
      "5\n",
      "8\n"
     ]
    }
   ],
   "source": [
    "arr = [1,2,3,4,5,5,7,6,8,8]\n",
    "\n",
    "print('Duplicate elements are :')\n",
    "for i in range(0,len(arr)):\n",
    "    for j in range(i+1,len(arr)):\n",
    "        if arr[i] == arr[j]:\n",
    "            print(arr[j])"
   ]
  },
  {
   "cell_type": "markdown",
   "id": "a5ce02e1",
   "metadata": {},
   "source": [
    "### 3. Write a program in Python for, How to find all pairs in array of integers whose sum is equal to given number."
   ]
  },
  {
   "cell_type": "code",
   "execution_count": 2,
   "id": "baf6f7b2",
   "metadata": {},
   "outputs": [
    {
     "name": "stdout",
     "output_type": "stream",
     "text": [
      "3\n"
     ]
    }
   ],
   "source": [
    "def get_pairs_count(arr,n,sum1):\n",
    "    count = 0\n",
    "    for i in range(0,n):\n",
    "        for j in range(i+1,n):\n",
    "            if arr[i] + arr[j] == sum1:\n",
    "                count = count + 1\n",
    "    return count\n",
    "\n",
    "arr = [1,5,-5,2,2,4]\n",
    "n = len(arr)\n",
    "sum1 = 6\n",
    "print(get_pairs_count(arr,n,sum1))"
   ]
  },
  {
   "cell_type": "markdown",
   "id": "0033dbf8",
   "metadata": {},
   "source": [
    "### 4. Write a program in Python for, How to compare two array is equal in size or not."
   ]
  },
  {
   "cell_type": "code",
   "execution_count": 3,
   "id": "613d9261",
   "metadata": {},
   "outputs": [
    {
     "name": "stdout",
     "output_type": "stream",
     "text": [
      "Array are EQUAL in SIZE\n"
     ]
    }
   ],
   "source": [
    "arr1 = [1,2,3,4,5]\n",
    "arr2 = [6,7,8,9,10]\n",
    "\n",
    "if len(arr1) == len(arr2):\n",
    "    print('Array are EQUAL in SIZE')\n",
    "else:\n",
    "    print('Array are not equal in size')"
   ]
  },
  {
   "cell_type": "markdown",
   "id": "2e4c271b",
   "metadata": {},
   "source": [
    "### 5. Write a program in Python to find largest and smallest number in array."
   ]
  },
  {
   "cell_type": "code",
   "execution_count": 4,
   "id": "072bab55",
   "metadata": {},
   "outputs": [],
   "source": [
    "arr = [10,20,30,15,45,75,35,5]"
   ]
  },
  {
   "cell_type": "code",
   "execution_count": 6,
   "id": "7c50d3da",
   "metadata": {},
   "outputs": [
    {
     "name": "stdout",
     "output_type": "stream",
     "text": [
      "Smallest number in array : 5\n",
      "Largest number in array : 75\n"
     ]
    }
   ],
   "source": [
    "def sort_array(arr):\n",
    "    arr.sort()\n",
    "    print('Smallest number in array :',arr[0])\n",
    "    print('Largest number in array :',arr[-1])\n",
    "sort_array(arr)"
   ]
  },
  {
   "cell_type": "markdown",
   "id": "817215e0",
   "metadata": {},
   "source": [
    "### 6. Write a program in Python to find second highest number in an integer array."
   ]
  },
  {
   "cell_type": "code",
   "execution_count": 7,
   "id": "c963be3b",
   "metadata": {},
   "outputs": [
    {
     "name": "stdout",
     "output_type": "stream",
     "text": [
      "Second highest number in array : 45\n"
     ]
    }
   ],
   "source": [
    "def sort_array_2(arr):\n",
    "    arr.sort()\n",
    "    print('Second highest number in array :',arr[-2])\n",
    "sort_array_2(arr)"
   ]
  },
  {
   "cell_type": "markdown",
   "id": "fd13c31a",
   "metadata": {},
   "source": [
    "### 7. Write a program in Python to find top two maximum number in array?"
   ]
  },
  {
   "cell_type": "code",
   "execution_count": 8,
   "id": "e27e1136",
   "metadata": {},
   "outputs": [
    {
     "name": "stdout",
     "output_type": "stream",
     "text": [
      "Top 1 highest number : 75\n",
      "Top 2 highest number : 45\n"
     ]
    }
   ],
   "source": [
    "def sort_3(arr):\n",
    "    arr.sort()\n",
    "    print('Top 1 highest number :',arr[-1])\n",
    "    print('Top 2 highest number :',arr[-2])\n",
    "sort_3(arr)"
   ]
  },
  {
   "cell_type": "markdown",
   "id": "b4af7bdd",
   "metadata": {},
   "source": [
    "### 8. Write a program in Python to remove duplicate elements form array."
   ]
  },
  {
   "cell_type": "code",
   "execution_count": 13,
   "id": "ee727202",
   "metadata": {},
   "outputs": [
    {
     "name": "stdout",
     "output_type": "stream",
     "text": [
      "list after removing duplicates : [10, 45, 20, 55, 60, 30]\n"
     ]
    }
   ],
   "source": [
    "arr = [10,20,30,10,45,55,45,60]\n",
    "list_1 = set(arr)\n",
    "list_1 = list(list_1)\n",
    "print('list after removing duplicates :',list_1)"
   ]
  },
  {
   "cell_type": "code",
   "execution_count": 14,
   "id": "7251955c",
   "metadata": {},
   "outputs": [
    {
     "name": "stdout",
     "output_type": "stream",
     "text": [
      "[10, 20, 30, 45, 55, 60]\n"
     ]
    }
   ],
   "source": [
    "# method 2\n",
    "def remove_duplicates(arr):\n",
    "    final_list = []\n",
    "    for num in arr:\n",
    "        if num not in final_list:\n",
    "            final_list.append(num)\n",
    "    return final_list\n",
    "print(remove_duplicates(arr))"
   ]
  },
  {
   "cell_type": "markdown",
   "id": "815341e7",
   "metadata": {},
   "source": [
    "### 10. Python program to print array in reverse Order."
   ]
  },
  {
   "cell_type": "code",
   "execution_count": 15,
   "id": "41924986",
   "metadata": {},
   "outputs": [
    {
     "data": {
      "text/plain": [
       "[10, 20, 30, 10, 45, 55, 45, 60]"
      ]
     },
     "execution_count": 15,
     "metadata": {},
     "output_type": "execute_result"
    }
   ],
   "source": [
    "arr"
   ]
  },
  {
   "cell_type": "code",
   "execution_count": 16,
   "id": "13a2e7e1",
   "metadata": {},
   "outputs": [
    {
     "name": "stdout",
     "output_type": "stream",
     "text": [
      "[60, 45, 55, 45, 10, 30, 20, 10]\n"
     ]
    }
   ],
   "source": [
    "print(arr[::-1])"
   ]
  },
  {
   "cell_type": "code",
   "execution_count": 20,
   "id": "5dc55e61",
   "metadata": {},
   "outputs": [
    {
     "name": "stdout",
     "output_type": "stream",
     "text": [
      "[60, 45, 55, 45, 10, 30, 20, 10]\n"
     ]
    }
   ],
   "source": [
    "# method 2\n",
    "list2 = []\n",
    "for i in range(len(arr)-1,-1,-1):\n",
    "    list2.append(arr[i])\n",
    "print(list2)"
   ]
  },
  {
   "cell_type": "code",
   "execution_count": null,
   "id": "b1eb92e1",
   "metadata": {},
   "outputs": [],
   "source": []
  }
 ],
 "metadata": {
  "kernelspec": {
   "display_name": "Python 3 (ipykernel)",
   "language": "python",
   "name": "python3"
  },
  "language_info": {
   "codemirror_mode": {
    "name": "ipython",
    "version": 3
   },
   "file_extension": ".py",
   "mimetype": "text/x-python",
   "name": "python",
   "nbconvert_exporter": "python",
   "pygments_lexer": "ipython3",
   "version": "3.9.13"
  }
 },
 "nbformat": 4,
 "nbformat_minor": 5
}
