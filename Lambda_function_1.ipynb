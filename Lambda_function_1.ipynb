{
 "cells": [
  {
   "cell_type": "markdown",
   "id": "597e6283",
   "metadata": {},
   "source": [
    "# Lambda Function"
   ]
  },
  {
   "cell_type": "markdown",
   "id": "445acce9",
   "metadata": {},
   "source": [
    "### Diffrence between Lambda function and regular function\n",
    "\n",
    "- Lambda Function!!!!!!!!\n",
    "\n",
    "    1. Lambda function is defined using lambda keyword\n",
    "    2. Can be written in a single line\n",
    "    3. Dont have return statement\n",
    "    4. Can be used without name\n",
    "    .\n",
    "    \n",
    "- Regular Function!!!!!!!\n",
    "\n",
    "    1. It is declared with def keyword\n",
    "    2. Requires more than one line\n",
    "    3. Return statement is must for returning values\n",
    "    4. Must be used with name"
   ]
  },
  {
   "cell_type": "code",
   "execution_count": 1,
   "id": "6d4d4dff",
   "metadata": {},
   "outputs": [
    {
     "data": {
      "text/plain": [
       "30"
      ]
     },
     "execution_count": 1,
     "metadata": {},
     "output_type": "execute_result"
    }
   ],
   "source": [
    "# Like want to add two values\n",
    "\n",
    "# function declaration with expected expression\n",
    "add_num = lambda x,y:x+y\n",
    "\n",
    "# calling\n",
    "add_num(10,20)"
   ]
  },
  {
   "cell_type": "code",
   "execution_count": 2,
   "id": "f32ff0d5",
   "metadata": {},
   "outputs": [
    {
     "data": {
      "text/plain": [
       "200"
      ]
     },
     "execution_count": 2,
     "metadata": {},
     "output_type": "execute_result"
    }
   ],
   "source": [
    "# we can call lambda function immidately using parenthesis\n",
    "(lambda x,y:x*y)(10,20)"
   ]
  },
  {
   "cell_type": "code",
   "execution_count": 3,
   "id": "fa6b4e37",
   "metadata": {},
   "outputs": [
    {
     "data": {
      "text/plain": [
       "5"
      ]
     },
     "execution_count": 3,
     "metadata": {},
     "output_type": "execute_result"
    }
   ],
   "source": [
    "# Subtraction of two number\n",
    "sub = lambda x,y:x-y\n",
    "\n",
    "sub(10,5)"
   ]
  },
  {
   "cell_type": "code",
   "execution_count": 4,
   "id": "a92e0d6f",
   "metadata": {},
   "outputs": [
    {
     "name": "stdout",
     "output_type": "stream",
     "text": [
      "The even numbers are in the given list are : [12, 24, 16, 88, 56, 42]\n"
     ]
    }
   ],
   "source": [
    "#1. Write a python program to filter a list of integers using lambda\n",
    "\n",
    "list1 = [12,24,16,35,77,45,65,33,88,56,42,61]\n",
    "\n",
    "even = list(filter(lambda i: i % 2 == 0,list1))\n",
    "print('The even numbers are in the given list are :',even)"
   ]
  },
  {
   "cell_type": "code",
   "execution_count": 5,
   "id": "683621aa",
   "metadata": {},
   "outputs": [
    {
     "name": "stdout",
     "output_type": "stream",
     "text": [
      "The odd number in given list are : [35, 77, 45, 65, 33, 61]\n"
     ]
    }
   ],
   "source": [
    "odd = list(filter(lambda i:i % 2 != 0,list1))\n",
    "print('The odd number in given list are :',odd)"
   ]
  },
  {
   "cell_type": "code",
   "execution_count": 6,
   "id": "817254b4",
   "metadata": {},
   "outputs": [
    {
     "name": "stdout",
     "output_type": "stream",
     "text": [
      "Square of a number is : [144, 25, 64, 49, 81, 121, 9, 36]\n",
      "Cube of a number is : [1728, 125, 512, 343, 729, 1331, 27, 216]\n"
     ]
    }
   ],
   "source": [
    "#2.Write a Python program to square and cube every number in a given list of integers using Lambda.\n",
    "lst = [12,5,8,7,9,11,3,6]\n",
    "\n",
    "square = list(map(lambda i: i ** 2,lst))\n",
    "print('Square of a number is :',square)\n",
    "\n",
    "cube = list(map(lambda i : i ** 3,lst))\n",
    "print('Cube of a number is :',cube)"
   ]
  },
  {
   "cell_type": "code",
   "execution_count": 8,
   "id": "00531c32",
   "metadata": {},
   "outputs": [
    {
     "name": "stdout",
     "output_type": "stream",
     "text": [
      "False\n",
      "True\n",
      "False\n"
     ]
    }
   ],
   "source": [
    "# 3.Write a Python program to find if a given string starts with a given character using Lambda.\n",
    "name = lambda string: True if string.startswith('A') else False\n",
    "\n",
    "print(name('apple'))\n",
    "print(name('Apple'))\n",
    "print(name('tiger'))"
   ]
  },
  {
   "cell_type": "code",
   "execution_count": 17,
   "id": "7006a90d",
   "metadata": {},
   "outputs": [
    {
     "name": "stdout",
     "output_type": "stream",
     "text": [
      "Todays date is : 2023-03-03 11:11:05.523913\n",
      "Time is : 11:11:05.523913\n",
      "Day : 3\n",
      "Month : 3\n",
      "Year : 2023\n"
     ]
    }
   ],
   "source": [
    "#4.Write a Python program to extract year, month, date and time using Lambda.\n",
    "from datetime import datetime\n",
    "today = datetime.now()\n",
    "\n",
    "print('Todays date is :',today)\n",
    "\n",
    "day = lambda d:d.day\n",
    "month = lambda m:m.month\n",
    "year = lambda y:y.year\n",
    "t = lambda t:t.time()\n",
    "\n",
    "print('Time is :',t(today))\n",
    "print('Day :',day(today))\n",
    "print('Month :',month(today))\n",
    "print('Year :',year(today))"
   ]
  },
  {
   "cell_type": "code",
   "execution_count": 20,
   "id": "3d31b295",
   "metadata": {},
   "outputs": [
    {
     "name": "stdout",
     "output_type": "stream",
     "text": [
      "Enter anything to check wheather it is a string or numeric : 524\n",
      "True\n"
     ]
    }
   ],
   "source": [
    "#5.Write a Python program to check whether a given string is number or not using Lambda.\n",
    "string = input('Enter anything to check wheather it is a string or numeric : ')\n",
    "\n",
    "fun = lambda x: True if x.isnumeric() else False\n",
    "    \n",
    "print(fun(string))"
   ]
  },
  {
   "cell_type": "code",
   "execution_count": 22,
   "id": "2a4a57ab",
   "metadata": {},
   "outputs": [
    {
     "name": "stdout",
     "output_type": "stream",
     "text": [
      "[0, 1, 1, 2, 3, 5, 8, 13, 21, 34]\n"
     ]
    }
   ],
   "source": [
    "#6. Write a Python program to create Fibonacci series upto n using Lambda.\n",
    "from functools import reduce\n",
    "\n",
    "fib_numbers = lambda y: reduce(lambda x,_: x + [x[-1] + x[-2]], range(y - 2),[0,1])\n",
    "\n",
    "print(fib_numbers(10))"
   ]
  },
  {
   "cell_type": "code",
   "execution_count": 23,
   "id": "e7c635d6",
   "metadata": {},
   "outputs": [
    {
     "data": {
      "text/plain": [
       "[30, 40, 50]"
      ]
     },
     "execution_count": 23,
     "metadata": {},
     "output_type": "execute_result"
    }
   ],
   "source": [
    "#7.Write a Python program to find intersection of two given arrays using Lambda.\n",
    "list1 = [10,20,30,40,50,60,70,80]\n",
    "list2 = [30,40,50,100,150]\n",
    "\n",
    "intersect = filter(lambda x: x in list1,list2)\n",
    "list(intersect)"
   ]
  },
  {
   "cell_type": "code",
   "execution_count": 27,
   "id": "b0b75fc6",
   "metadata": {},
   "outputs": [
    {
     "name": "stdout",
     "output_type": "stream",
     "text": [
      "List afte rrearrange [1, 2, 5, 6, 9, -7, -3, -2, -1]\n"
     ]
    }
   ],
   "source": [
    "#8. Write a Python program to rearrange positive and negative numbers in a given array using Lambda.\n",
    "list1 = [1,6,-3,5,-2,9,2,-7,-1]\n",
    "list1 = sorted(list1)\n",
    "\n",
    "new_list = lambda list1: [x for x in list1 if x >= 0] + [x for x in list1 if x < 0]\n",
    "print('List afte rrearrange',new_list(list1))"
   ]
  },
  {
   "cell_type": "code",
   "execution_count": 28,
   "id": "643d0354",
   "metadata": {},
   "outputs": [
    {
     "name": "stdout",
     "output_type": "stream",
     "text": [
      "Even count : 6 Odd count 7\n"
     ]
    }
   ],
   "source": [
    "#9.Write a Python program to count the even, odd numbers in a given array of integers using Lambda.\n",
    "lst = [12,24,16,35,77,45,65,33,88,56,42,61,21]\n",
    "\n",
    "even_count = len(list(filter(lambda x: x % 2 ==0,lst)))\n",
    "odd_count = len(list(filter(lambda x:x%2 != 0,lst)))\n",
    "\n",
    "print('Even count :',even_count,'Odd count',odd_count)"
   ]
  },
  {
   "cell_type": "code",
   "execution_count": null,
   "id": "1e988bba",
   "metadata": {},
   "outputs": [],
   "source": []
  }
 ],
 "metadata": {
  "kernelspec": {
   "display_name": "Python 3 (ipykernel)",
   "language": "python",
   "name": "python3"
  },
  "language_info": {
   "codemirror_mode": {
    "name": "ipython",
    "version": 3
   },
   "file_extension": ".py",
   "mimetype": "text/x-python",
   "name": "python",
   "nbconvert_exporter": "python",
   "pygments_lexer": "ipython3",
   "version": "3.9.13"
  }
 },
 "nbformat": 4,
 "nbformat_minor": 5
}
