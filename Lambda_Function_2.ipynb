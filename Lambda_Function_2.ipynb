{
 "cells": [
  {
   "cell_type": "code",
   "execution_count": 1,
   "id": "7b8587fe",
   "metadata": {},
   "outputs": [
    {
     "name": "stdout",
     "output_type": "stream",
     "text": [
      "String with length 6 : ['mangos', 'bottle', 'mobile']\n"
     ]
    }
   ],
   "source": [
    "#1. Write a Python program to find the values of length six in a given list using Lambda.\n",
    "list1 = ['alpha', 'mangos','bottle','mobile','vharger']\n",
    "a = list(filter(lambda st: len(st) == 6,list1))\n",
    "print('String with length 6 :',a)"
   ]
  },
  {
   "cell_type": "code",
   "execution_count": 5,
   "id": "d2ba24d9",
   "metadata": {},
   "outputs": [
    {
     "name": "stdout",
     "output_type": "stream",
     "text": [
      "The numbers are : [190, 26, 78]\n"
     ]
    }
   ],
   "source": [
    "#2. Write a Python program to find numbers divisible by nineteen or thirteen from a list of numbers using Lambda.\n",
    "list2= [190,26,54,78]\n",
    "b = list(filter(lambda i : (i % 19 == 0) or (i % 13 == 0),list2))\n",
    "print('The numbers are :',b)"
   ]
  },
  {
   "cell_type": "code",
   "execution_count": 6,
   "id": "4a15142c",
   "metadata": {},
   "outputs": [
    {
     "data": {
      "text/plain": [
       "[1, 3, 5, 7, 8, 9]"
      ]
     },
     "execution_count": 6,
     "metadata": {},
     "output_type": "execute_result"
    }
   ],
   "source": [
    "#3.Write a Python program to remove all elements from a given list present in another list using lambda.\n",
    "list1 = [1,2,3,4,5,6,7,8,9]\n",
    "list2 = [2,4,6]\n",
    "list(filter(lambda x : x not in list2,list1))"
   ]
  },
  {
   "cell_type": "code",
   "execution_count": 7,
   "id": "6a6c8fd0",
   "metadata": {},
   "outputs": [
    {
     "name": "stdout",
     "output_type": "stream",
     "text": [
      "Enter a substing to check in a given list : mango\n"
     ]
    },
    {
     "data": {
      "text/plain": [
       "['mango']"
      ]
     },
     "execution_count": 7,
     "metadata": {},
     "output_type": "execute_result"
    }
   ],
   "source": [
    "#4.Write a Python program to find the elements of a given list of strings that contain specific substring using lambda.\n",
    "lst = ['mango','apple','banana','kiwi','orange']\n",
    "str1 = input('Enter a substing to check in a given list : ')\n",
    "list(filter(lambda st: str1 in st,lst))"
   ]
  },
  {
   "cell_type": "code",
   "execution_count": 8,
   "id": "08243ef4",
   "metadata": {},
   "outputs": [
    {
     "name": "stdout",
     "output_type": "stream",
     "text": [
      "12\n",
      "7\n",
      "11\n",
      "1\n",
      "5\n",
      "8\n"
     ]
    }
   ],
   "source": [
    "#5.Write a Python program to find the nested lists elements, which are present in another list using lambda.\n",
    "num1 = [1,2,3,4,5,6,7,8,9,10,11,12,13,14]\n",
    "num2 = [[12,18,23,25,45],[7,11,19,24,28],[1,5,8,15,16]]\n",
    "\n",
    "# using for loop\n",
    "for i in num2:\n",
    "    for j in i:\n",
    "        if j in num1:\n",
    "            print(j)"
   ]
  },
  {
   "cell_type": "code",
   "execution_count": 9,
   "id": "b84903ed",
   "metadata": {},
   "outputs": [
    {
     "data": {
      "text/plain": [
       "[[12], [7, 11], [1, 5, 8]]"
      ]
     },
     "execution_count": 9,
     "metadata": {},
     "output_type": "execute_result"
    }
   ],
   "source": [
    "# Using lambda\n",
    "[list(filter(lambda x: x in num1,sub)) for sub in num2]"
   ]
  },
  {
   "cell_type": "code",
   "execution_count": 11,
   "id": "bc746d29",
   "metadata": {},
   "outputs": [
    {
     "data": {
      "text/plain": [
       "['nohtyp', 'avaj', 'bdognam']"
      ]
     },
     "execution_count": 11,
     "metadata": {},
     "output_type": "execute_result"
    }
   ],
   "source": [
    "#6. Write a Python program to reverse strings in a given list of string values using lambda.\n",
    "list1 = ['python','java','mangodb']\n",
    "\n",
    "list(map(lambda x : x[::-1],list1))"
   ]
  },
  {
   "cell_type": "code",
   "execution_count": 12,
   "id": "b324ddaf",
   "metadata": {},
   "outputs": [
    {
     "data": {
      "text/plain": [
       "12420"
      ]
     },
     "execution_count": 12,
     "metadata": {},
     "output_type": "execute_result"
    }
   ],
   "source": [
    "#7. Write a Python program to calculate the product of a given list of numbers using lambda.\n",
    "list1 = [12,23,45]\n",
    "from functools import reduce\n",
    "\n",
    "reduce(lambda x,y:x*y,list1)"
   ]
  },
  {
   "cell_type": "code",
   "execution_count": 13,
   "id": "1b3cb1a4",
   "metadata": {},
   "outputs": [
    {
     "data": {
      "text/plain": [
       "(30.5, 34.25, 27.0)"
      ]
     },
     "execution_count": 13,
     "metadata": {},
     "output_type": "execute_result"
    }
   ],
   "source": [
    "#8. Write a Python program to calculate the average value of the numbers in a given tuple of tuples using lambda.\n",
    "tup = ((10,10,10,),(30,45,56),(81,80,39),(1,2,3))\n",
    "tuple(map(lambda x:(sum(x)/len(tup)),zip(*tup)))"
   ]
  },
  {
   "cell_type": "code",
   "execution_count": 15,
   "id": "ccb5f6e6",
   "metadata": {},
   "outputs": [
    {
     "data": {
      "text/plain": [
       "[(233, 33), (432, 44), (654, 54)]"
      ]
     },
     "execution_count": 15,
     "metadata": {},
     "output_type": "execute_result"
    }
   ],
   "source": [
    "#9.Write a Python program to convert string element to integer inside a given tuple using lambda.\n",
    "\n",
    "tup_str = (('233','abc','33'),('432','drf','44'),('654','hhh','54'))\n",
    "\n",
    "list(map(lambda x: (int(x[0]),int(x[2])),tup_str))"
   ]
  },
  {
   "cell_type": "code",
   "execution_count": 17,
   "id": "cbd2bcd2",
   "metadata": {},
   "outputs": [
    {
     "data": {
      "text/plain": [
       "(5, 99)"
      ]
     },
     "metadata": {},
     "output_type": "display_data"
    },
    {
     "data": {
      "text/plain": [
       "(3, 11)"
      ]
     },
     "metadata": {},
     "output_type": "display_data"
    }
   ],
   "source": [
    "#10.Write a Python program to find index position and value of the maximum and minimum values in a given list of numbers using lambda.\n",
    "\n",
    "lst = [33,88,55,11,22,99,44]\n",
    "\n",
    "display(max(enumerate(lst),key=lambda x: x[1]),\n",
    "      min(enumerate(lst),key = lambda x: x[1]))\n"
   ]
  }
 ],
 "metadata": {
  "kernelspec": {
   "display_name": "Python 3 (ipykernel)",
   "language": "python",
   "name": "python3"
  },
  "language_info": {
   "codemirror_mode": {
    "name": "ipython",
    "version": 3
   },
   "file_extension": ".py",
   "mimetype": "text/x-python",
   "name": "python",
   "nbconvert_exporter": "python",
   "pygments_lexer": "ipython3",
   "version": "3.9.13"
  }
 },
 "nbformat": 4,
 "nbformat_minor": 5
}
