{
 "cells": [
  {
   "cell_type": "markdown",
   "id": "06cd3e45",
   "metadata": {},
   "source": [
    "## 1. Example of a dictionary in Python"
   ]
  },
  {
   "cell_type": "code",
   "execution_count": 1,
   "id": "b58ee625",
   "metadata": {},
   "outputs": [],
   "source": [
    "alphabet_dict = {'a':'apple','b':'baloon','c':'car','d':'dog','e':'elephaent'}"
   ]
  },
  {
   "cell_type": "code",
   "execution_count": 2,
   "id": "69f0bb4f",
   "metadata": {},
   "outputs": [
    {
     "data": {
      "text/plain": [
       "{'a': 'apple', 'b': 'baloon', 'c': 'car', 'd': 'dog', 'e': 'elephaent'}"
      ]
     },
     "execution_count": 2,
     "metadata": {},
     "output_type": "execute_result"
    }
   ],
   "source": [
    "alphabet_dict"
   ]
  },
  {
   "cell_type": "markdown",
   "id": "b1b29b6a",
   "metadata": {},
   "source": [
    "## 2. Python Dictionary with duplicate items"
   ]
  },
  {
   "cell_type": "code",
   "execution_count": 3,
   "id": "7265e60c",
   "metadata": {},
   "outputs": [
    {
     "data": {
      "text/plain": [
       "{1: 11, 2: 22, 3: 33, 4: 44}"
      ]
     },
     "execution_count": 3,
     "metadata": {},
     "output_type": "execute_result"
    }
   ],
   "source": [
    "d2 = {1:11,2:22,2:22,3:33,4:44,4:44}\n",
    "d2"
   ]
  },
  {
   "cell_type": "markdown",
   "id": "45948943",
   "metadata": {},
   "source": [
    "Duplicate not allwed in key of dictionary"
   ]
  },
  {
   "cell_type": "code",
   "execution_count": 4,
   "id": "807863c4",
   "metadata": {},
   "outputs": [
    {
     "data": {
      "text/plain": [
       "{1: 11, 2: 22, 3: 22, 4: 44}"
      ]
     },
     "execution_count": 4,
     "metadata": {},
     "output_type": "execute_result"
    }
   ],
   "source": [
    "d3 = {1:11,2:22,3:22,4:44}\n",
    "d3"
   ]
  },
  {
   "cell_type": "markdown",
   "id": "cc70b5e1",
   "metadata": {},
   "source": [
    "Duplicate values can be allowed"
   ]
  },
  {
   "cell_type": "markdown",
   "id": "f7853e87",
   "metadata": {},
   "source": [
    "## 3. Clearing all keys and values in a Python dictionary"
   ]
  },
  {
   "cell_type": "code",
   "execution_count": 5,
   "id": "a0a9e15f",
   "metadata": {},
   "outputs": [
    {
     "data": {
      "text/plain": [
       "{1: 11, 2: 22, 3: 22, 4: 44}"
      ]
     },
     "execution_count": 5,
     "metadata": {},
     "output_type": "execute_result"
    }
   ],
   "source": [
    "d3"
   ]
  },
  {
   "cell_type": "code",
   "execution_count": 6,
   "id": "026d506c",
   "metadata": {},
   "outputs": [],
   "source": [
    "d3.clear()"
   ]
  },
  {
   "cell_type": "code",
   "execution_count": 7,
   "id": "d4aa0507",
   "metadata": {},
   "outputs": [
    {
     "data": {
      "text/plain": [
       "{}"
      ]
     },
     "execution_count": 7,
     "metadata": {},
     "output_type": "execute_result"
    }
   ],
   "source": [
    "d3"
   ]
  },
  {
   "cell_type": "markdown",
   "id": "3151a23a",
   "metadata": {},
   "source": [
    "## 4. Getting the value from a Python dictionary based on the key"
   ]
  },
  {
   "cell_type": "code",
   "execution_count": 8,
   "id": "6fcac901",
   "metadata": {},
   "outputs": [],
   "source": [
    "lang = {1:'python',2:'css',3:'HTML'}"
   ]
  },
  {
   "cell_type": "code",
   "execution_count": 9,
   "id": "7478494c",
   "metadata": {},
   "outputs": [
    {
     "data": {
      "text/plain": [
       "'python'"
      ]
     },
     "execution_count": 9,
     "metadata": {},
     "output_type": "execute_result"
    }
   ],
   "source": [
    "lang.get(1)"
   ]
  },
  {
   "cell_type": "code",
   "execution_count": 10,
   "id": "cd5ca887",
   "metadata": {},
   "outputs": [],
   "source": [
    "lang.get(4)"
   ]
  },
  {
   "cell_type": "markdown",
   "id": "0655c11c",
   "metadata": {},
   "source": [
    "No value exist "
   ]
  },
  {
   "cell_type": "markdown",
   "id": "25421465",
   "metadata": {},
   "source": [
    "## 5. Getting the keys and values from a dictionary using items() method"
   ]
  },
  {
   "cell_type": "code",
   "execution_count": 11,
   "id": "dc04d642",
   "metadata": {},
   "outputs": [
    {
     "data": {
      "text/plain": [
       "{1: 'python', 2: 'css', 3: 'HTML'}"
      ]
     },
     "execution_count": 11,
     "metadata": {},
     "output_type": "execute_result"
    }
   ],
   "source": [
    "lang"
   ]
  },
  {
   "cell_type": "code",
   "execution_count": 12,
   "id": "d0a864c7",
   "metadata": {},
   "outputs": [
    {
     "data": {
      "text/plain": [
       "dict_items([(1, 'python'), (2, 'css'), (3, 'HTML')])"
      ]
     },
     "execution_count": 12,
     "metadata": {},
     "output_type": "execute_result"
    }
   ],
   "source": [
    "lang.items()"
   ]
  },
  {
   "cell_type": "markdown",
   "id": "79e6ece6",
   "metadata": {},
   "source": [
    "## 6. Getting the keys from a dictionary using keys() method"
   ]
  },
  {
   "cell_type": "code",
   "execution_count": 13,
   "id": "a599d02e",
   "metadata": {},
   "outputs": [
    {
     "data": {
      "text/plain": [
       "{1: 'python', 2: 'css', 3: 'HTML'}"
      ]
     },
     "execution_count": 13,
     "metadata": {},
     "output_type": "execute_result"
    }
   ],
   "source": [
    "lang"
   ]
  },
  {
   "cell_type": "code",
   "execution_count": 16,
   "id": "11d9531d",
   "metadata": {},
   "outputs": [
    {
     "name": "stdout",
     "output_type": "stream",
     "text": [
      "The dictionary keys are : dict_keys([1, 2, 3])\n"
     ]
    }
   ],
   "source": [
    "print('The dictionary keys are :',lang.keys())"
   ]
  },
  {
   "cell_type": "markdown",
   "id": "b0debeea",
   "metadata": {},
   "source": [
    "## 7. Getting the keys from a dictionary using values() method"
   ]
  },
  {
   "cell_type": "code",
   "execution_count": 17,
   "id": "6582b21c",
   "metadata": {},
   "outputs": [
    {
     "data": {
      "text/plain": [
       "{1: 'python', 2: 'css', 3: 'HTML'}"
      ]
     },
     "execution_count": 17,
     "metadata": {},
     "output_type": "execute_result"
    }
   ],
   "source": [
    "lang"
   ]
  },
  {
   "cell_type": "code",
   "execution_count": 18,
   "id": "b604b882",
   "metadata": {},
   "outputs": [
    {
     "name": "stdout",
     "output_type": "stream",
     "text": [
      "The values of the dictionary are : dict_values(['python', 'css', 'HTML'])\n"
     ]
    }
   ],
   "source": [
    "print('The values of the dictionary are :',lang.values())"
   ]
  },
  {
   "cell_type": "markdown",
   "id": "96e172ce",
   "metadata": {},
   "source": [
    "## 8. Popping out items from a Python dictionary using pop() method"
   ]
  },
  {
   "cell_type": "code",
   "execution_count": 19,
   "id": "898595ed",
   "metadata": {},
   "outputs": [
    {
     "data": {
      "text/plain": [
       "{1: 'python', 2: 'css', 3: 'HTML'}"
      ]
     },
     "execution_count": 19,
     "metadata": {},
     "output_type": "execute_result"
    }
   ],
   "source": [
    "lang"
   ]
  },
  {
   "cell_type": "code",
   "execution_count": 21,
   "id": "62aff75a",
   "metadata": {},
   "outputs": [
    {
     "data": {
      "text/plain": [
       "'python'"
      ]
     },
     "execution_count": 21,
     "metadata": {},
     "output_type": "execute_result"
    }
   ],
   "source": [
    "lang.pop(1)"
   ]
  },
  {
   "cell_type": "code",
   "execution_count": 22,
   "id": "985f4a9f",
   "metadata": {},
   "outputs": [
    {
     "data": {
      "text/plain": [
       "{2: 'css', 3: 'HTML'}"
      ]
     },
     "execution_count": 22,
     "metadata": {},
     "output_type": "execute_result"
    }
   ],
   "source": [
    "lang"
   ]
  },
  {
   "cell_type": "code",
   "execution_count": 23,
   "id": "f7049233",
   "metadata": {},
   "outputs": [
    {
     "ename": "KeyError",
     "evalue": "4",
     "output_type": "error",
     "traceback": [
      "\u001b[1;31m---------------------------------------------------------------------------\u001b[0m",
      "\u001b[1;31mKeyError\u001b[0m                                  Traceback (most recent call last)",
      "\u001b[1;32m~\\AppData\\Local\\Temp\\ipykernel_4628\\680046261.py\u001b[0m in \u001b[0;36m<module>\u001b[1;34m\u001b[0m\n\u001b[1;32m----> 1\u001b[1;33m \u001b[0mlang\u001b[0m\u001b[1;33m.\u001b[0m\u001b[0mpop\u001b[0m\u001b[1;33m(\u001b[0m\u001b[1;36m4\u001b[0m\u001b[1;33m)\u001b[0m\u001b[1;33m\u001b[0m\u001b[1;33m\u001b[0m\u001b[0m\n\u001b[0m",
      "\u001b[1;31mKeyError\u001b[0m: 4"
     ]
    }
   ],
   "source": [
    "lang.pop(4)"
   ]
  },
  {
   "cell_type": "markdown",
   "id": "692e04f6",
   "metadata": {},
   "source": [
    "## 9. Converting two lists to a dictionary in Python"
   ]
  },
  {
   "cell_type": "code",
   "execution_count": 24,
   "id": "230c0312",
   "metadata": {},
   "outputs": [],
   "source": [
    "a = [1,2,3,4,5]\n",
    "b = ['india','china','brazil','indonesia','australia']"
   ]
  },
  {
   "cell_type": "code",
   "execution_count": 25,
   "id": "c535a3bf",
   "metadata": {},
   "outputs": [],
   "source": [
    "mydict = dict(zip(a,b))"
   ]
  },
  {
   "cell_type": "code",
   "execution_count": 26,
   "id": "d35884f3",
   "metadata": {},
   "outputs": [
    {
     "data": {
      "text/plain": [
       "{1: 'india', 2: 'china', 3: 'brazil', 4: 'indonesia', 5: 'australia'}"
      ]
     },
     "execution_count": 26,
     "metadata": {},
     "output_type": "execute_result"
    }
   ],
   "source": [
    "mydict"
   ]
  },
  {
   "cell_type": "markdown",
   "id": "ad7d2905",
   "metadata": {},
   "source": [
    "## 10. Deleting elements from a dictionary using del"
   ]
  },
  {
   "cell_type": "code",
   "execution_count": 27,
   "id": "73d4592d",
   "metadata": {},
   "outputs": [
    {
     "data": {
      "text/plain": [
       "{2: 'css', 3: 'HTML'}"
      ]
     },
     "execution_count": 27,
     "metadata": {},
     "output_type": "execute_result"
    }
   ],
   "source": [
    "lang"
   ]
  },
  {
   "cell_type": "code",
   "execution_count": 28,
   "id": "407b3f3c",
   "metadata": {},
   "outputs": [],
   "source": [
    "if 2 in lang:\n",
    "    del lang[2]"
   ]
  },
  {
   "cell_type": "code",
   "execution_count": 29,
   "id": "41e8eb9a",
   "metadata": {},
   "outputs": [
    {
     "data": {
      "text/plain": [
       "{3: 'HTML'}"
      ]
     },
     "execution_count": 29,
     "metadata": {},
     "output_type": "execute_result"
    }
   ],
   "source": [
    "lang"
   ]
  },
  {
   "cell_type": "markdown",
   "id": "33263b41",
   "metadata": {},
   "source": [
    "## 11. Sorting elements in a Python dictionary"
   ]
  },
  {
   "cell_type": "code",
   "execution_count": 30,
   "id": "7a4df7f1",
   "metadata": {},
   "outputs": [
    {
     "data": {
      "text/plain": [
       "{1: 'india', 2: 'china', 3: 'brazil', 4: 'indonesia', 5: 'australia'}"
      ]
     },
     "execution_count": 30,
     "metadata": {},
     "output_type": "execute_result"
    }
   ],
   "source": [
    "mydict"
   ]
  },
  {
   "cell_type": "code",
   "execution_count": 31,
   "id": "ae5ae9f2",
   "metadata": {},
   "outputs": [
    {
     "name": "stdout",
     "output_type": "stream",
     "text": [
      "1 india\n",
      "2 china\n",
      "3 brazil\n",
      "4 indonesia\n",
      "5 australia\n"
     ]
    }
   ],
   "source": [
    "for key in sorted(mydict):\n",
    "    print(key,mydict[key])"
   ]
  },
  {
   "cell_type": "markdown",
   "id": "d6b1ecd8",
   "metadata": {},
   "source": [
    "## 12. Finding the sum of all values in a Python dictionary"
   ]
  },
  {
   "cell_type": "code",
   "execution_count": 33,
   "id": "434bed45",
   "metadata": {},
   "outputs": [],
   "source": [
    "dict2 = {1:100,2:200,3:300,4:400}"
   ]
  },
  {
   "cell_type": "code",
   "execution_count": 34,
   "id": "d4bb5e26",
   "metadata": {},
   "outputs": [
    {
     "name": "stdout",
     "output_type": "stream",
     "text": [
      "The sum of values is : 1000\n"
     ]
    }
   ],
   "source": [
    "print('The sum of values is :',sum(dict2.values()))"
   ]
  },
  {
   "cell_type": "markdown",
   "id": "db6429b6",
   "metadata": {},
   "source": [
    "## 13. Example of the fromkeys() method in Python"
   ]
  },
  {
   "cell_type": "code",
   "execution_count": 35,
   "id": "b043342c",
   "metadata": {},
   "outputs": [],
   "source": [
    "p = ('a1','a2','a3')\n",
    "w = 10\n",
    "\n",
    "dict3 = dict.fromkeys(p,w)"
   ]
  },
  {
   "cell_type": "code",
   "execution_count": 36,
   "id": "f728f6b1",
   "metadata": {},
   "outputs": [
    {
     "data": {
      "text/plain": [
       "{'a1': 10, 'a2': 10, 'a3': 10}"
      ]
     },
     "execution_count": 36,
     "metadata": {},
     "output_type": "execute_result"
    }
   ],
   "source": [
    "dict3"
   ]
  },
  {
   "cell_type": "markdown",
   "id": "a98c587c",
   "metadata": {},
   "source": [
    "## 14. Finding the min and max of values in a Python dictionary"
   ]
  },
  {
   "cell_type": "code",
   "execution_count": 37,
   "id": "2ca7a4c4",
   "metadata": {},
   "outputs": [
    {
     "data": {
      "text/plain": [
       "{1: 100, 2: 200, 3: 300, 4: 400}"
      ]
     },
     "execution_count": 37,
     "metadata": {},
     "output_type": "execute_result"
    }
   ],
   "source": [
    "dict2"
   ]
  },
  {
   "cell_type": "code",
   "execution_count": 38,
   "id": "fdd52cfc",
   "metadata": {},
   "outputs": [
    {
     "name": "stdout",
     "output_type": "stream",
     "text": [
      "The minimum values is : 100\n"
     ]
    }
   ],
   "source": [
    "print('The minimum values is :',min(dict2.values()))"
   ]
  },
  {
   "cell_type": "code",
   "execution_count": 39,
   "id": "73362665",
   "metadata": {},
   "outputs": [
    {
     "name": "stdout",
     "output_type": "stream",
     "text": [
      "The maximum value is : 400\n"
     ]
    }
   ],
   "source": [
    "print('The maximum value is :',max(dict2.values()))"
   ]
  },
  {
   "cell_type": "markdown",
   "id": "d232e67b",
   "metadata": {},
   "source": [
    "## 15. Python dictionary of square of numbers"
   ]
  },
  {
   "cell_type": "code",
   "execution_count": 40,
   "id": "2c46155a",
   "metadata": {},
   "outputs": [
    {
     "name": "stdout",
     "output_type": "stream",
     "text": [
      "{1: 1, 2: 4, 3: 9, 4: 16, 5: 25}\n"
     ]
    }
   ],
   "source": [
    "square_dict = {}\n",
    "\n",
    "for i in range(1,6):\n",
    "    square_dict[i] = i**2\n",
    "print(square_dict)"
   ]
  },
  {
   "cell_type": "code",
   "execution_count": null,
   "id": "1740f756",
   "metadata": {},
   "outputs": [],
   "source": []
  }
 ],
 "metadata": {
  "kernelspec": {
   "display_name": "Python 3 (ipykernel)",
   "language": "python",
   "name": "python3"
  },
  "language_info": {
   "codemirror_mode": {
    "name": "ipython",
    "version": 3
   },
   "file_extension": ".py",
   "mimetype": "text/x-python",
   "name": "python",
   "nbconvert_exporter": "python",
   "pygments_lexer": "ipython3",
   "version": "3.9.13"
  }
 },
 "nbformat": 4,
 "nbformat_minor": 5
}
