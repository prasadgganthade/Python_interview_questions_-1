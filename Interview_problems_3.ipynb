{
 "cells": [
  {
   "cell_type": "code",
   "execution_count": 1,
   "id": "d7e47f02",
   "metadata": {},
   "outputs": [
    {
     "name": "stdout",
     "output_type": "stream",
     "text": [
      "Enter the 3 number seperated by space : 10 52 69\n",
      "Smallest number : 10\n"
     ]
    }
   ],
   "source": [
    "# 1. Python programme to find smallest number among three.\n",
    "\n",
    "n1,n2,n3 = map(int,input('Enter the 3 number seperated by space : ').split())\n",
    "print('Smallest number :',min(n1,n2,n3))"
   ]
  },
  {
   "cell_type": "code",
   "execution_count": 2,
   "id": "0a748aa4",
   "metadata": {},
   "outputs": [
    {
     "name": "stdout",
     "output_type": "stream",
     "text": [
      "Enter the number and its power :5 2\n",
      "The number is is 5 and its power is 2 and  = 25\n"
     ]
    }
   ],
   "source": [
    "# 2. Python programme to calculate the power using the POW method.\n",
    "n1,p = map(int,input('Enter the number and its power :').split())\n",
    "print(f'The number is is {n1} and its power is {p} and  =',(pow(n1,p)))"
   ]
  },
  {
   "cell_type": "code",
   "execution_count": 6,
   "id": "e40870cf",
   "metadata": {},
   "outputs": [
    {
     "name": "stdout",
     "output_type": "stream",
     "text": [
      "Enter the number : 5\n",
      "Enter the power : 4\n",
      "The answer is : 625\n"
     ]
    }
   ],
   "source": [
    "# 3. Pytghon priogramme to calculate power without using pow method.\n",
    "\n",
    "n1 = int(input('Enter the number : '))\n",
    "p = int(input('Enter the power : '))\n",
    "\n",
    "power = 1\n",
    "for i in range(p):\n",
    "    power = power *n1\n",
    "    \n",
    "print('The answer is :',power)"
   ]
  },
  {
   "cell_type": "code",
   "execution_count": 7,
   "id": "7029a2c5",
   "metadata": {},
   "outputs": [
    {
     "name": "stdout",
     "output_type": "stream",
     "text": [
      "Enter any number : 8\n",
      "Enter the power : 2\n",
      "2 th power of 8 is : 64\n"
     ]
    }
   ],
   "source": [
    "# 4. Pyhton programme to calculate power using while loop?\n",
    "\n",
    "n1 = int(input('Enter any number : '))\n",
    "p = int(input('Enter the power : '))\n",
    "\n",
    "power = i = 1\n",
    "while i <= p:\n",
    "    power = power * n1\n",
    "    i+=1\n",
    "    \n",
    "print(f'{p} th power of {n1} is : {power}')"
   ]
  },
  {
   "cell_type": "code",
   "execution_count": 8,
   "id": "c07461fd",
   "metadata": {},
   "outputs": [
    {
     "name": "stdout",
     "output_type": "stream",
     "text": [
      "Enter any number to gets square : 15\n",
      "The square of 15 is : 225\n"
     ]
    }
   ],
   "source": [
    "# 5 Python programme to calculate square of given number.\n",
    "num = int(input('Enter any number to gets square : '))\n",
    "\n",
    "print('The square of',num,'is :',(num**2))"
   ]
  },
  {
   "cell_type": "code",
   "execution_count": 9,
   "id": "e6aef846",
   "metadata": {},
   "outputs": [
    {
     "name": "stdout",
     "output_type": "stream",
     "text": [
      "Enter the any number to get its cube : 6\n",
      "The number is 6 and its cube is 216\n"
     ]
    }
   ],
   "source": [
    "# 6. Python programme to find cube of given number.\n",
    "\n",
    "num = int(input('Enter the any number to get its cube : '))\n",
    "\n",
    "print(f'The number is {num} and its cube is {num**3}')"
   ]
  },
  {
   "cell_type": "code",
   "execution_count": 10,
   "id": "d54fdea1",
   "metadata": {},
   "outputs": [
    {
     "name": "stdout",
     "output_type": "stream",
     "text": [
      "Enter the number to get its square root : 16\n",
      "The number is 16 and its square root is 4.0\n"
     ]
    }
   ],
   "source": [
    "# 7. Python programme to calculate square root of given number.\n",
    "\n",
    "num = int(input('Enter the number to get its square root : '))\n",
    "\n",
    "print(f'The number is {num} and its square root is {num**(1/2)}')"
   ]
  },
  {
   "cell_type": "code",
   "execution_count": 12,
   "id": "e53cbdf3",
   "metadata": {},
   "outputs": [
    {
     "name": "stdout",
     "output_type": "stream",
     "text": [
      "Enter number1 : 24\n",
      "Enter number2 : 54\n",
      "LCM is : 216\n"
     ]
    }
   ],
   "source": [
    "# 8. Python programme to calculate LCM of given two numbers.\n",
    "\n",
    "def get_lcm(num1,num2):\n",
    "    if num1 > num2:\n",
    "        large = num1\n",
    "    else:\n",
    "        large = num2\n",
    "    while True:\n",
    "        if (large % num1 == 0) and (large % num2 == 0):\n",
    "            lcm = large\n",
    "            break\n",
    "        large += 1\n",
    "    return lcm\n",
    "\n",
    "n1 = int(input('Enter number1 : '))\n",
    "n2 = int(input('Enter number2 : '))\n",
    "print('LCM is :',get_lcm(n1,n2))"
   ]
  },
  {
   "cell_type": "code",
   "execution_count": null,
   "id": "a01cf9a9",
   "metadata": {},
   "outputs": [],
   "source": []
  }
 ],
 "metadata": {
  "kernelspec": {
   "display_name": "Python 3 (ipykernel)",
   "language": "python",
   "name": "python3"
  },
  "language_info": {
   "codemirror_mode": {
    "name": "ipython",
    "version": 3
   },
   "file_extension": ".py",
   "mimetype": "text/x-python",
   "name": "python",
   "nbconvert_exporter": "python",
   "pygments_lexer": "ipython3",
   "version": "3.9.13"
  }
 },
 "nbformat": 4,
 "nbformat_minor": 5
}
