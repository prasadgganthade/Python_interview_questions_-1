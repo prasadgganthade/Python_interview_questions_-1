{
 "cells": [
  {
   "cell_type": "code",
   "execution_count": 1,
   "id": "0b47f9ac",
   "metadata": {},
   "outputs": [
    {
     "name": "stdout",
     "output_type": "stream",
     "text": [
      "Enter the number : 56789\n",
      "Reverse number is : 98765\n"
     ]
    }
   ],
   "source": [
    "# 1. Write a program to reverse an integer in python.\n",
    "\n",
    "num = int(input('Enter the number : '))\n",
    "\n",
    "reverse_num = 0\n",
    "while num > 0:\n",
    "    last_digit = num % 10\n",
    "    reverse_num = reverse_num*10 + last_digit\n",
    "    num = num // 10\n",
    "\n",
    "print('Reverse number is :',reverse_num)"
   ]
  },
  {
   "cell_type": "code",
   "execution_count": 3,
   "id": "542d31e0",
   "metadata": {},
   "outputs": [
    {
     "name": "stdout",
     "output_type": "stream",
     "text": [
      "Enter any number to check if it is armstrong or not : 585\n",
      "Given number is not Armstrong..\n"
     ]
    }
   ],
   "source": [
    "# 2. Write a programme in python check wheather an integer is\n",
    "# armstrong number or not.\n",
    "\n",
    "# A number is armstrong if cubes of each digit gives the same number e.g -153\n",
    "\n",
    "num = int(input('Enter any number to check if it is armstrong or not : '))\n",
    "temp = num \n",
    "result_num = 0\n",
    "while temp > 0:\n",
    "    digit = temp % 10\n",
    "    result_num = result_num + digit**3\n",
    "    temp = temp // 10\n",
    "    \n",
    "if result_num == num:\n",
    "    print('Given number is Armstrong..')\n",
    "else:\n",
    "    print('Given number is not Armstrong..')"
   ]
  },
  {
   "cell_type": "code",
   "execution_count": 9,
   "id": "b5aa87d0",
   "metadata": {},
   "outputs": [
    {
     "name": "stdout",
     "output_type": "stream",
     "text": [
      "Enter the number : 33\n",
      "The number is not Prime number..\n"
     ]
    }
   ],
   "source": [
    "# 3. Write a python programme to check given number is prime or not?\n",
    "\n",
    "num = int(input('Enter the number : '))\n",
    "\n",
    "if num < 0:\n",
    "    print('Enter positive number')\n",
    "elif num == 1:\n",
    "    print('1 is not a prime number')\n",
    "elif num >=2:\n",
    "    for i in range(2,int(num/2) +1):\n",
    "        if num % i == 0:\n",
    "            print('The number is not Prime number..')\n",
    "            break\n",
    "    else:\n",
    "        print('The number is Prime Number!!')            "
   ]
  },
  {
   "cell_type": "code",
   "execution_count": 14,
   "id": "8dc0cf6b",
   "metadata": {},
   "outputs": [
    {
     "name": "stdout",
     "output_type": "stream",
     "text": [
      "Enter the n-term of fibonacci series : 10\n",
      "Fibonacci Series: 0 1 1 2 3 5 8 13 21 34 \n"
     ]
    }
   ],
   "source": [
    "# 4. Write a python programe to print the fibonacci series of n-terms\n",
    "\n",
    "num = int(input('Enter the n-term of fibonacci series : '))\n",
    "n1, n2 = 0, 1\n",
    "print(\"Fibonacci Series:\", n1, n2, end=\" \")\n",
    "for i in range(2, num):\n",
    "    n3 = n1 + n2\n",
    "    n1 = n2\n",
    "    n2 = n3\n",
    "    print(n3, end=\" \")\n",
    "\n",
    "print()"
   ]
  },
  {
   "cell_type": "code",
   "execution_count": 17,
   "id": "71e8fbbe",
   "metadata": {},
   "outputs": [
    {
     "name": "stdout",
     "output_type": "stream",
     "text": [
      "Enter the n-terms for fibonacci : 5\n",
      "Fibonacci Series :\n",
      " 0\n",
      "1\n",
      "1\n",
      "2\n",
      "3\n"
     ]
    }
   ],
   "source": [
    "# 5. Write a program in Python to print the \n",
    "#Fibonacci series using recursive method?.\n",
    "\n",
    "def fibo(num):\n",
    "    if num <= 1:\n",
    "        return num\n",
    "    else:\n",
    "        return (fibo(num-1) + fibo(num-2))\n",
    "\n",
    "num = int(input('Enter the n-terms for fibonacci : '))\n",
    "if num <= 0:\n",
    "    print('Please enter positive number')\n",
    "else:\n",
    "    print('Fibonacci Series :\\n',end=\" \")\n",
    "\n",
    "for i in range(num):\n",
    "    print(fibo(i))"
   ]
  },
  {
   "cell_type": "code",
   "execution_count": 19,
   "id": "66dfe41c",
   "metadata": {},
   "outputs": [
    {
     "name": "stdout",
     "output_type": "stream",
     "text": [
      "Enter the number : 121\n",
      "Given number is PALIMDROME\n"
     ]
    }
   ],
   "source": [
    "# 6. Write a program in Python to check whether a number\n",
    "#is palindrome or not using iterative method.??\n",
    "\n",
    "num = int(input(\"Enter the number : \"))\n",
    "temp = num\n",
    "palimdrome = 0\n",
    "while temp > 0:\n",
    "    digit = temp % 10\n",
    "    palimdrome = palimdrome*10 + digit\n",
    "    temp = temp // 10\n",
    "    \n",
    "if palimdrome == num:\n",
    "    print('Given number is PALIMDROME')\n",
    "else:\n",
    "    print('Given number is not palimdrome')"
   ]
  },
  {
   "cell_type": "code",
   "execution_count": 22,
   "id": "c0e0901c",
   "metadata": {},
   "outputs": [
    {
     "name": "stdout",
     "output_type": "stream",
     "text": [
      "Enter the number : 158\n",
      "Given number is not palimdrome\n"
     ]
    }
   ],
   "source": [
    "# 7. Write a program in Python to check whether a number is \n",
    "#palindrome or not using recursive method.???\n",
    "\n",
    "def palimdrome(num, rev=0):\n",
    "    if num == 0:\n",
    "        return rev\n",
    "    rev = rev*10 +(num%10)\n",
    "    rev = palimdrome(num // 10,rev)\n",
    "    return rev\n",
    "\n",
    "num = int(input('Enter the number : '))\n",
    "temp = palimdrome(num)\n",
    "if temp == num:\n",
    "    print('Given number is PALIMDROME')\n",
    "else:\n",
    "    print('Given number is not palimdrome')"
   ]
  },
  {
   "cell_type": "code",
   "execution_count": 24,
   "id": "0a17ebcc",
   "metadata": {},
   "outputs": [
    {
     "name": "stdout",
     "output_type": "stream",
     "text": [
      "Enter the 3 number seperated by space : 12 45 23\n",
      "45 is the Greatest number\n"
     ]
    }
   ],
   "source": [
    "# 8. Write a program in Python to find greatest among three integers.\n",
    "x,y,z = map(int,input('Enter the 3 number seperated by space : ').split())\n",
    "\n",
    "if x>y and x>z:\n",
    "    print(f'{x} is the Greatest number')\n",
    "elif y>z and y>x:\n",
    "    print(f'{y} is the Greatest number')\n",
    "else:\n",
    "    print(f'{z} is the Greatest number')"
   ]
  },
  {
   "cell_type": "code",
   "execution_count": 28,
   "id": "b6351277",
   "metadata": {},
   "outputs": [
    {
     "name": "stdout",
     "output_type": "stream",
     "text": [
      "Enter the number : 1102\n"
     ]
    },
    {
     "data": {
      "text/plain": [
       "'Not a Binary'"
      ]
     },
     "execution_count": 28,
     "metadata": {},
     "output_type": "execute_result"
    }
   ],
   "source": [
    "# 9. Write a program in Python to check if a number is binary?\n",
    "\n",
    "num = int(input('Enter the number : '))\n",
    "\n",
    "def check_binary(num):\n",
    "    if num == 0 or num == 1 or num < 0:\n",
    "        return 'Not a Binary'\n",
    "    while (num !=  0):\n",
    "        if num % 10 > 1:\n",
    "            return 'Not a Binary'\n",
    "        num //= 10\n",
    "    else:\n",
    "        return 'Number is BINARY'\n",
    "\n",
    "check_binary(num)"
   ]
  },
  {
   "cell_type": "code",
   "execution_count": 29,
   "id": "9928da53",
   "metadata": {},
   "outputs": [
    {
     "name": "stdout",
     "output_type": "stream",
     "text": [
      "Enter the number : 123\n",
      "Sum of digits is : 6\n"
     ]
    }
   ],
   "source": [
    "# 10. Write a program in Python to find sum of digits \n",
    "#of a number using recursion?\n",
    "\n",
    "def sum_of_digits(num):\n",
    "    if num == 0:\n",
    "        return 0\n",
    "    return (num%10+sum_of_digits(num//10))\n",
    "\n",
    "num = int(input('Enter the number : '))\n",
    "\n",
    "print('Sum of digits is :',sum_of_digits(num))"
   ]
  },
  {
   "cell_type": "code",
   "execution_count": null,
   "id": "facfb8f9",
   "metadata": {},
   "outputs": [],
   "source": []
  }
 ],
 "metadata": {
  "kernelspec": {
   "display_name": "Python 3 (ipykernel)",
   "language": "python",
   "name": "python3"
  },
  "language_info": {
   "codemirror_mode": {
    "name": "ipython",
    "version": 3
   },
   "file_extension": ".py",
   "mimetype": "text/x-python",
   "name": "python",
   "nbconvert_exporter": "python",
   "pygments_lexer": "ipython3",
   "version": "3.9.13"
  }
 },
 "nbformat": 4,
 "nbformat_minor": 5
}
