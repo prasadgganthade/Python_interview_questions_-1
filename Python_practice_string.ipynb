{
 "cells": [
  {
   "cell_type": "markdown",
   "id": "4725998f",
   "metadata": {},
   "source": [
    "### 1. Python program to remove given character from String."
   ]
  },
  {
   "cell_type": "code",
   "execution_count": 1,
   "id": "b04225a9",
   "metadata": {},
   "outputs": [
    {
     "name": "stdout",
     "output_type": "stream",
     "text": [
      "Enter the name : prasad\n",
      "Enter the character to be removed : p\n",
      "rasad\n"
     ]
    }
   ],
   "source": [
    "name = input('Enter the name : ')\n",
    "char = input('Enter the character to be removed : ')\n",
    "print(name.replace(char,\"\"))"
   ]
  },
  {
   "cell_type": "code",
   "execution_count": 2,
   "id": "862d51b6",
   "metadata": {},
   "outputs": [
    {
     "name": "stdout",
     "output_type": "stream",
     "text": [
      "Enter the name : i love india\n",
      "Enter the character to be removed : i l\n",
      "ove india\n"
     ]
    }
   ],
   "source": [
    "# for multiple characters\n",
    "name = input('Enter the name : ')\n",
    "char = map(input('Enter the character to be removed : ').split())\n",
    "print(name.replace(char,\"\"))"
   ]
  },
  {
   "cell_type": "markdown",
   "id": "c41c3e60",
   "metadata": {},
   "source": [
    "### 2. Python Program to count occurrence of a given characters in string."
   ]
  },
  {
   "cell_type": "code",
   "execution_count": 3,
   "id": "e2bf8e7b",
   "metadata": {},
   "outputs": [
    {
     "name": "stdout",
     "output_type": "stream",
     "text": [
      "Enter the string : i love india\n",
      "Enter the character : i\n",
      "The number of occurance of i is : 3\n"
     ]
    }
   ],
   "source": [
    "# using for loop\n",
    "\n",
    "str1 = input('Enter the string : ')\n",
    "char = input('Enter the character : ')\n",
    "count = 0\n",
    "\n",
    "for i in range(len(str1)):\n",
    "    if str1[i] == char:\n",
    "        count += 1\n",
    "print('The number of occurance of',char,'is :',count)"
   ]
  },
  {
   "cell_type": "code",
   "execution_count": 6,
   "id": "7467f838",
   "metadata": {},
   "outputs": [
    {
     "name": "stdout",
     "output_type": "stream",
     "text": [
      "Enter the string : i love india\n",
      "Enter the character : i\n",
      "The number of occurance of i is : 3\n"
     ]
    }
   ],
   "source": [
    "# using while loop\n",
    "\n",
    "str1 = input('Enter the string : ')\n",
    "char = input('Enter the character : ')\n",
    "count = 0\n",
    "i = 0\n",
    "while i < len(str1):\n",
    "    if str1[i] == char:\n",
    "        count += 1\n",
    "    i += 1\n",
    "print('The number of occurance of',char,'is :',count)"
   ]
  },
  {
   "cell_type": "markdown",
   "id": "88d42fa9",
   "metadata": {},
   "source": [
    "### 3. Python Program to check if two Strings are Anagram.\n",
    "\n",
    "Anagram - Two strings can be called Anagram if the same character with the same occurrence, present in both string. In this case position of characters not matters."
   ]
  },
  {
   "cell_type": "code",
   "execution_count": 7,
   "id": "485d7849",
   "metadata": {},
   "outputs": [
    {
     "name": "stdout",
     "output_type": "stream",
     "text": [
      "Enter 1st string : listen\n",
      "Enter 2nd string : silent\n",
      "Given strings are ANAGRAM\n"
     ]
    }
   ],
   "source": [
    "str1 = input('Enter 1st string : ')\n",
    "str2 = input('Enter 2nd string : ')\n",
    "\n",
    "def check_anagram(str1,str2):\n",
    "    if sorted(str1) == sorted(str2):\n",
    "        return True\n",
    "    else:\n",
    "        return False\n",
    "    \n",
    "if check_anagram(str1,str2):\n",
    "    print('Given strings are ANAGRAM')\n",
    "else:\n",
    "    print('Given strings are NOT ANAGRAM')"
   ]
  },
  {
   "cell_type": "markdown",
   "id": "875a199c",
   "metadata": {},
   "source": [
    "### 4. Python program to check a String is palindrome or not.\n",
    "\n",
    "Palindrome -A String is called as palindrome, when it not changes either we write it from starting point or last end of the String."
   ]
  },
  {
   "cell_type": "code",
   "execution_count": 8,
   "id": "cd52bc9b",
   "metadata": {},
   "outputs": [
    {
     "name": "stdout",
     "output_type": "stream",
     "text": [
      "Enter the string : madam\n",
      "Given string is PALINDROME\n"
     ]
    }
   ],
   "source": [
    "str1 = input('Enter the string : ')\n",
    "\n",
    "if str1 == str1[::-1]:\n",
    "    print('Given string is PALINDROME')\n",
    "else:\n",
    "    print('Given string is not palindrome')"
   ]
  },
  {
   "cell_type": "code",
   "execution_count": 9,
   "id": "411542ce",
   "metadata": {},
   "outputs": [
    {
     "name": "stdout",
     "output_type": "stream",
     "text": [
      "Enter the string : dalda\n",
      "Given string is not palindrome\n"
     ]
    }
   ],
   "source": [
    "# using for loop\n",
    "\n",
    "str1 = input('Enter the string : ')\n",
    "\n",
    "def is_palindrome(str1):\n",
    "    for i in range(0,int(len(str1)/2)):\n",
    "        if str1[i] != str1[len(str1)-i-1]:\n",
    "            return False\n",
    "        return True\n",
    "\n",
    "if is_palindrome(str1):\n",
    "    print('Given string is PALINDROME')\n",
    "else:\n",
    "    print('Given string is not palindrome')"
   ]
  },
  {
   "cell_type": "markdown",
   "id": "105aafd9",
   "metadata": {},
   "source": [
    "### 5. Python program to check given character is vowel or consonant."
   ]
  },
  {
   "cell_type": "code",
   "execution_count": 11,
   "id": "95eefe67",
   "metadata": {},
   "outputs": [
    {
     "name": "stdout",
     "output_type": "stream",
     "text": [
      "Enter the character to check vowel or consonent : f\n",
      "Given character f is consonent\n"
     ]
    }
   ],
   "source": [
    "ch = input('Enter the character to check vowel or consonent : ')\n",
    "\n",
    "if (ch == 'a'or ch == 'e' or ch == 'i' or ch == 'o'or ch == 'u'or ch == 'A'or ch == 'E'or ch == 'I'or ch == 'O'or ch == 'U'):\n",
    "    print('Given character',ch,'is VOWEL')\n",
    "else:\n",
    "    print('Given character',ch,'is consonent')"
   ]
  },
  {
   "cell_type": "markdown",
   "id": "47f74040",
   "metadata": {},
   "source": [
    "### 6. Python program to check given character is digit or not."
   ]
  },
  {
   "cell_type": "code",
   "execution_count": 12,
   "id": "a0d16efc",
   "metadata": {},
   "outputs": [
    {
     "name": "stdout",
     "output_type": "stream",
     "text": [
      "Enter the string to check is digit or not : 1234\n",
      "True\n"
     ]
    }
   ],
   "source": [
    "str1 = input('Enter the string to check is digit or not : ')\n",
    "print(str1.isdigit())"
   ]
  },
  {
   "cell_type": "code",
   "execution_count": 13,
   "id": "b6e362c3",
   "metadata": {},
   "outputs": [
    {
     "name": "stdout",
     "output_type": "stream",
     "text": [
      "Enter the string to check is digit or not : gh123\n",
      "False\n"
     ]
    }
   ],
   "source": [
    "str1 = input('Enter the string to check is digit or not : ')\n",
    "print(str1.isdigit())"
   ]
  },
  {
   "cell_type": "markdown",
   "id": "55a08245",
   "metadata": {},
   "source": [
    "### 7. Python program to replace the string space with a given character."
   ]
  },
  {
   "cell_type": "code",
   "execution_count": 16,
   "id": "ff43630e",
   "metadata": {},
   "outputs": [
    {
     "name": "stdout",
     "output_type": "stream",
     "text": [
      "Enter the string :  nd a\n",
      "Enter the character to replace space in string : i\n",
      "String after removing space : india\n"
     ]
    }
   ],
   "source": [
    "str1 = input('Enter the string : ')\n",
    "ch = input('Enter the character to replace space in string : ')\n",
    "result = \"\"\n",
    "\n",
    "for i in str1:\n",
    "    if i == \" \":\n",
    "        i = ch\n",
    "    result += i\n",
    "print('String after removing space :',result)        "
   ]
  },
  {
   "cell_type": "markdown",
   "id": "6adb1154",
   "metadata": {},
   "source": [
    "### 8. Python program to replace the string space with a given character using replace() method."
   ]
  },
  {
   "cell_type": "code",
   "execution_count": 20,
   "id": "34427c9b",
   "metadata": {},
   "outputs": [
    {
     "name": "stdout",
     "output_type": "stream",
     "text": [
      "Enter the string :  nd a\n",
      "Enter the character to replace space in string : i\n",
      "india\n"
     ]
    }
   ],
   "source": [
    "str1 = input('Enter the string : ')\n",
    "ch = input('Enter the character to replace space in string : ')\n",
    "print(str1.replace(\" \",ch))"
   ]
  },
  {
   "cell_type": "markdown",
   "id": "4f8f6b77",
   "metadata": {},
   "source": [
    "### 9. Python program to convert lowercase char to uppercase of string."
   ]
  },
  {
   "cell_type": "code",
   "execution_count": 21,
   "id": "04a4d893",
   "metadata": {},
   "outputs": [
    {
     "name": "stdout",
     "output_type": "stream",
     "text": [
      "Enter the string : prasad\n",
      "PRASAD\n"
     ]
    }
   ],
   "source": [
    "str1 = input('Enter the string : ')\n",
    "print(str1.upper())"
   ]
  },
  {
   "cell_type": "markdown",
   "id": "173411bf",
   "metadata": {},
   "source": [
    "### 10. Python program to convert lowercase vowel to uppercase in string."
   ]
  },
  {
   "cell_type": "code",
   "execution_count": 2,
   "id": "d456c13b",
   "metadata": {},
   "outputs": [
    {
     "name": "stdout",
     "output_type": "stream",
     "text": [
      "Enter the string : python is fun\n",
      "pythOn Is fUn\n"
     ]
    }
   ],
   "source": [
    "def convert_vowels_upper(str1):\n",
    "    str2 = \"\"\n",
    "    n = len(str1)\n",
    "    for i in range(n):\n",
    "        if (str1[i] == 'a' or str1[i] == 'e' or str1[i] == 'o' or str1[i] == 'u' or str1[i] == 'i'):\n",
    "            c = str1[i].upper()\n",
    "            str2 += c\n",
    "        else:\n",
    "            str2 += str1[i]\n",
    "    return str2\n",
    "\n",
    "str1 = input('Enter the string : ')\n",
    "\n",
    "print(convert_vowels_upper(str1))"
   ]
  },
  {
   "cell_type": "markdown",
   "id": "bc8fae93",
   "metadata": {},
   "source": [
    "### 11. Python program to delete vowels in a given string."
   ]
  },
  {
   "cell_type": "code",
   "execution_count": 2,
   "id": "4971995d",
   "metadata": {},
   "outputs": [
    {
     "name": "stdout",
     "output_type": "stream",
     "text": [
      "Enter the string : india\n",
      "String after removing the vowels : nd\n"
     ]
    }
   ],
   "source": [
    "string = input('Enter the string : ')\n",
    "result = \"\"\n",
    "\n",
    "for i in string:\n",
    "    if i in('a','e','i','o','u','A','E','I','O','U'):\n",
    "        i = \"\"\n",
    "    result = result + i\n",
    "print('String after removing the vowels :',result)"
   ]
  },
  {
   "cell_type": "markdown",
   "id": "01246190",
   "metadata": {},
   "source": [
    "### 12. Python program to count Occurrence Of Vowels & Consonants in a String."
   ]
  },
  {
   "cell_type": "code",
   "execution_count": 3,
   "id": "432a9605",
   "metadata": {},
   "outputs": [
    {
     "name": "stdout",
     "output_type": "stream",
     "text": [
      "Enter the string : india\n",
      "Count of vowel in the string is : 3\n",
      "Count of consonent in the string : 2\n"
     ]
    }
   ],
   "source": [
    "string = input('Enter the string : ')\n",
    "vowel_count = 0\n",
    "consonent_count = 0\n",
    "\n",
    "for i in string:\n",
    "    if i in('a','e','i','o','u','A','E','I','O','U'):\n",
    "        vowel_count += 1\n",
    "    else:\n",
    "        consonent_count += 1\n",
    "\n",
    "print('Count of vowel in the string is :',vowel_count)\n",
    "print('Count of consonent in the string :',consonent_count)"
   ]
  },
  {
   "cell_type": "markdown",
   "id": "b737297c",
   "metadata": {},
   "source": [
    "### 13. Python program to print the highest frequency character in a String."
   ]
  },
  {
   "cell_type": "code",
   "execution_count": 4,
   "id": "f2f5cb96",
   "metadata": {},
   "outputs": [
    {
     "name": "stdout",
     "output_type": "stream",
     "text": [
      "Enter the string : india\n",
      "The max character in string is : i\n"
     ]
    }
   ],
   "source": [
    "test_str = input('Enter the string : ')\n",
    "\n",
    "# creating empty dictionary\n",
    "dict1 = {}\n",
    "\n",
    "for i in test_str:\n",
    "    if i in dict1:\n",
    "        dict1[i] += 1\n",
    "    else:\n",
    "        dict1[i] = 1\n",
    "        \n",
    "max_char = max(dict1,key=dict1.get)\n",
    "\n",
    "print('The max character in string is :',str(max_char))"
   ]
  },
  {
   "cell_type": "code",
   "execution_count": 5,
   "id": "ed9ead34",
   "metadata": {},
   "outputs": [
    {
     "name": "stdout",
     "output_type": "stream",
     "text": [
      "Enter the string : india\n",
      "The maximum characterin string is : i\n"
     ]
    }
   ],
   "source": [
    "# using lambda function\n",
    "\n",
    "test_str = input('Enter the string : ')\n",
    "result = max(test_str, key=lambda x: test_str.count(x))\n",
    "print('The maximum characterin string is :',result)"
   ]
  },
  {
   "cell_type": "markdown",
   "id": "f3432770",
   "metadata": {},
   "source": [
    "### 14. Python program to Replace First Occurrence Of Vowel With ‘-‘ in String."
   ]
  },
  {
   "cell_type": "code",
   "execution_count": 7,
   "id": "8b94a095",
   "metadata": {},
   "outputs": [
    {
     "name": "stdout",
     "output_type": "stream",
     "text": [
      "I love -ndia\n"
     ]
    }
   ],
   "source": [
    "string = 'I love india'\n",
    "print(string.replace('i','-',1))"
   ]
  },
  {
   "cell_type": "markdown",
   "id": "67bc560b",
   "metadata": {},
   "source": [
    "### 15. Python program to count alphabets, digits and special characters."
   ]
  },
  {
   "cell_type": "code",
   "execution_count": 8,
   "id": "018326fb",
   "metadata": {},
   "outputs": [
    {
     "name": "stdout",
     "output_type": "stream",
     "text": [
      "Enter the string with numeric and special character : Special123@#$\n",
      "The alphabets in the strings are : 7\n",
      "The digits in the strings are : 3\n",
      "The special characters in the strings are : 3\n"
     ]
    }
   ],
   "source": [
    "string = input('Enter the string with numeric and special character : ')\n",
    "alphabets = 0\n",
    "digits = 0\n",
    "special_char = 0\n",
    "\n",
    "for i in string:\n",
    "    if i.isalpha():\n",
    "        alphabets += 1\n",
    "    elif i.isdigit():\n",
    "        digits += 1\n",
    "    else:\n",
    "        special_char += 1\n",
    "\n",
    "print('The alphabets in the strings are :',alphabets)\n",
    "print('The digits in the strings are :',digits)\n",
    "print('The special characters in the strings are :',special_char)"
   ]
  },
  {
   "cell_type": "markdown",
   "id": "54d267c2",
   "metadata": {},
   "source": [
    "### 16. Python program to separate characters in a given string."
   ]
  },
  {
   "cell_type": "code",
   "execution_count": 9,
   "id": "af09d223",
   "metadata": {},
   "outputs": [
    {
     "name": "stdout",
     "output_type": "stream",
     "text": [
      "Enter the string : Balack&while\n",
      "['B', 'a', 'l', 'a', 'c', 'k', '&', 'w', 'h', 'i', 'l', 'e']\n"
     ]
    }
   ],
   "source": [
    "string = input('Enter the string : ')\n",
    "list1 = []\n",
    "\n",
    "for i in string:\n",
    "    list1.append(i)\n",
    "    \n",
    "print(list1)"
   ]
  },
  {
   "cell_type": "markdown",
   "id": "890e79a2",
   "metadata": {},
   "source": [
    "### 17. Python program to remove blank space from string."
   ]
  },
  {
   "cell_type": "code",
   "execution_count": 10,
   "id": "6498b73d",
   "metadata": {},
   "outputs": [
    {
     "name": "stdout",
     "output_type": "stream",
     "text": [
      "Enter the string : tom abd jerry\n",
      "String after removing black space : tomabdjerry\n"
     ]
    }
   ],
   "source": [
    "string = input('Enter the string : ')\n",
    "result = \"\"\n",
    "\n",
    "for i in string:\n",
    "    if i != \" \":\n",
    "        result += i\n",
    "print('String after removing black space :',result)"
   ]
  },
  {
   "cell_type": "markdown",
   "id": "621bdca3",
   "metadata": {},
   "source": [
    "### 18. Python program to concatenate two strings using join() method."
   ]
  },
  {
   "cell_type": "code",
   "execution_count": 11,
   "id": "9d8b5574",
   "metadata": {},
   "outputs": [
    {
     "name": "stdout",
     "output_type": "stream",
     "text": [
      "Enter the 1st string : prasad\n",
      "Enter the 2nd string : ganthade\n",
      "Concatenation of 2 strng : prasadganthade\n"
     ]
    }
   ],
   "source": [
    "str1 = input('Enter the 1st string : ')\n",
    "str2 = input('Enter the 2nd string : ')\n",
    "\n",
    "print(\"Concatenation of 2 strng :\",\"\".join([str1,str2]))"
   ]
  },
  {
   "cell_type": "markdown",
   "id": "4088156d",
   "metadata": {},
   "source": [
    "### 19. Python program to concatenate two strings without using join() method."
   ]
  },
  {
   "cell_type": "code",
   "execution_count": 12,
   "id": "e39e8a10",
   "metadata": {},
   "outputs": [
    {
     "name": "stdout",
     "output_type": "stream",
     "text": [
      "Enter first string : indian\n",
      "Enter second string : gas\n",
      "indiangas\n"
     ]
    }
   ],
   "source": [
    "str1 = input('Enter first string : ')\n",
    "str2 = input('Enter second string : ')\n",
    "print(str1 + str2)"
   ]
  },
  {
   "cell_type": "markdown",
   "id": "0807b873",
   "metadata": {},
   "source": [
    "### 20. Python program to remove repeated character from string."
   ]
  },
  {
   "cell_type": "code",
   "execution_count": 13,
   "id": "582d6ef1",
   "metadata": {},
   "outputs": [
    {
     "name": "stdout",
     "output_type": "stream",
     "text": [
      "Enter the string : india\n",
      "String after removing duplicates : inda\n"
     ]
    }
   ],
   "source": [
    "string = input('Enter the string : ')\n",
    "p = \"\"\n",
    "\n",
    "for i in string:\n",
    "    if i not in p:\n",
    "        p += i\n",
    "print('String after removing duplicates :',p)"
   ]
  },
  {
   "cell_type": "markdown",
   "id": "c66d91c1",
   "metadata": {},
   "source": [
    "### 21. Python program to calculate sum of integers in string."
   ]
  },
  {
   "cell_type": "code",
   "execution_count": 14,
   "id": "53e2ca30",
   "metadata": {},
   "outputs": [
    {
     "name": "stdout",
     "output_type": "stream",
     "text": [
      "Enter the string with numbers : prasad999g\n",
      "Sum of integers in string is : 27\n"
     ]
    }
   ],
   "source": [
    "string = input('Enter the string with numbers : ')\n",
    "sum1 = 0\n",
    "\n",
    "for i in string:\n",
    "    if i.isdigit():\n",
    "        sum1 += int(i)\n",
    "print('Sum of integers in string is :',sum1)    "
   ]
  },
  {
   "cell_type": "markdown",
   "id": "4c538719",
   "metadata": {},
   "source": [
    "### 22. Python program to print all non repeating character in string."
   ]
  },
  {
   "cell_type": "code",
   "execution_count": 18,
   "id": "0eed6813",
   "metadata": {},
   "outputs": [
    {
     "name": "stdout",
     "output_type": "stream",
     "text": [
      "Enter the string : india\n",
      "The non repeatitng character are : nda\n"
     ]
    }
   ],
   "source": [
    "str1 = input('Enter the string : ')\n",
    "result = \"\"\n",
    "for i in str1:\n",
    "    count = 0\n",
    "    for j in str1:\n",
    "        if i == j:\n",
    "            count = count + 1\n",
    "            if count > 1:\n",
    "                break\n",
    "    if count == 1:\n",
    "        result += i\n",
    "                \n",
    "print('The non repeatitng character are :',result) "
   ]
  },
  {
   "cell_type": "markdown",
   "id": "e1753a92",
   "metadata": {},
   "source": [
    "### 23.Python program to copy one string to another string."
   ]
  },
  {
   "cell_type": "code",
   "execution_count": 19,
   "id": "691c5fa3",
   "metadata": {},
   "outputs": [
    {
     "name": "stdout",
     "output_type": "stream",
     "text": [
      "Enter the string : bigbull\n",
      "bigbull\n",
      "bigbull\n"
     ]
    }
   ],
   "source": [
    "str1 = input('Enter the string : ')\n",
    "str2 = str1\n",
    "str3 = str1[:]\n",
    "print(str2)\n",
    "print(str3)"
   ]
  },
  {
   "cell_type": "code",
   "execution_count": 20,
   "id": "16b5f580",
   "metadata": {},
   "outputs": [
    {
     "name": "stdout",
     "output_type": "stream",
     "text": [
      "Enter the string : nifty\n",
      "nifty\n"
     ]
    }
   ],
   "source": [
    "# using loop\n",
    "str1 = input('Enter the string : ')\n",
    "str2 = \"\"\n",
    "for i in str1:\n",
    "    str2 = str2 + i\n",
    "print(str2)"
   ]
  },
  {
   "cell_type": "markdown",
   "id": "ec6ca76a",
   "metadata": {},
   "source": [
    "### 24. Python Program to sort characters of string in ascending order."
   ]
  },
  {
   "cell_type": "code",
   "execution_count": 21,
   "id": "b4ba3011",
   "metadata": {},
   "outputs": [
    {
     "name": "stdout",
     "output_type": "stream",
     "text": [
      "Enter the string : giga\n",
      "Sorted string is : aggi\n"
     ]
    }
   ],
   "source": [
    "str1 = input('Enter the string : ')\n",
    "str_list = list(str1)\n",
    "sorted_str = \"\".join(sorted(str_list))\n",
    "print('Sorted string is :',sorted_str)"
   ]
  },
  {
   "cell_type": "markdown",
   "id": "a574e6a3",
   "metadata": {},
   "source": [
    "### 25. Python Program to sort character of string in descending order."
   ]
  },
  {
   "cell_type": "code",
   "execution_count": 22,
   "id": "4ab5e83a",
   "metadata": {},
   "outputs": [
    {
     "name": "stdout",
     "output_type": "stream",
     "text": [
      "Enter the string : giga\n",
      "Sorted string is : igga\n"
     ]
    }
   ],
   "source": [
    "str1 = input('Enter the string : ')\n",
    "str_list = list(str1)\n",
    "sorted_str = \"\".join(sorted(str_list,reverse=True))\n",
    "print('Sorted string is :',sorted_str)"
   ]
  },
  {
   "cell_type": "code",
   "execution_count": null,
   "id": "501fc434",
   "metadata": {},
   "outputs": [],
   "source": []
  }
 ],
 "metadata": {
  "kernelspec": {
   "display_name": "Python 3 (ipykernel)",
   "language": "python",
   "name": "python3"
  },
  "language_info": {
   "codemirror_mode": {
    "name": "ipython",
    "version": 3
   },
   "file_extension": ".py",
   "mimetype": "text/x-python",
   "name": "python",
   "nbconvert_exporter": "python",
   "pygments_lexer": "ipython3",
   "version": "3.9.13"
  }
 },
 "nbformat": 4,
 "nbformat_minor": 5
}
