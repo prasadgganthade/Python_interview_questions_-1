{
 "cells": [
  {
   "cell_type": "markdown",
   "id": "95d6556e",
   "metadata": {},
   "source": [
    "### 1. Write a program in Python for, In array 1-100 numbers are stored, one number is missing how do you find it."
   ]
  },
  {
   "cell_type": "code",
   "execution_count": 2,
   "id": "39ee95ec",
   "metadata": {},
   "outputs": [
    {
     "name": "stdout",
     "output_type": "stream",
     "text": [
      "[8]\n"
     ]
    }
   ],
   "source": [
    "arr = [1,2,3,4,5,6,7,9,10]\n",
    "missing_element = []\n",
    "for element in range(arr[0],arr[-1]+1):\n",
    "    if element not in arr:\n",
    "        missing_element.append(element)\n",
    "print(missing_element)"
   ]
  },
  {
   "cell_type": "markdown",
   "id": "7459170e",
   "metadata": {},
   "source": [
    "### 2. Write a program in Python for, In a array 1-100 multiple numbers are duplicates, how do you find it."
   ]
  },
  {
   "cell_type": "code",
   "execution_count": null,
   "id": "88ec3567",
   "metadata": {},
   "outputs": [],
   "source": [
    "arr,occur = [],[]\n",
    "n = int(input('Enter the size of array : '))\n",
    "for x in range(n):\n",
    "    ocur.append(o)"
   ]
  }
 ],
 "metadata": {
  "kernelspec": {
   "display_name": "Python 3 (ipykernel)",
   "language": "python",
   "name": "python3"
  },
  "language_info": {
   "codemirror_mode": {
    "name": "ipython",
    "version": 3
   },
   "file_extension": ".py",
   "mimetype": "text/x-python",
   "name": "python",
   "nbconvert_exporter": "python",
   "pygments_lexer": "ipython3",
   "version": "3.9.13"
  }
 },
 "nbformat": 4,
 "nbformat_minor": 5
}
