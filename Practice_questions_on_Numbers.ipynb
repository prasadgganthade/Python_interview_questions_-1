{
 "cells": [
  {
   "cell_type": "markdown",
   "id": "901e72bf",
   "metadata": {},
   "source": [
    "### 1. Python program to reverse a number"
   ]
  },
  {
   "cell_type": "code",
   "execution_count": 3,
   "id": "605bf3d9",
   "metadata": {},
   "outputs": [
    {
     "name": "stdout",
     "output_type": "stream",
     "text": [
      "Enter the number : 1235\n",
      "The reverse of given number is : 5321\n"
     ]
    }
   ],
   "source": [
    "num = int(input('Enter the number : '))\n",
    "reverse_num = 0\n",
    "while num > 0:\n",
    "    last_digit = num % 10\n",
    "    reverse_num = reverse_num*10 + last_digit\n",
    "    num = num//10\n",
    "print('The reverse of given number is :',reverse_num)"
   ]
  },
  {
   "cell_type": "markdown",
   "id": "d463b785",
   "metadata": {},
   "source": [
    "### 2. Program to check a number is Armstrong or not\n",
    "\n",
    "A number is armstrong if cubes of each digit gives the same number e.g -153"
   ]
  },
  {
   "cell_type": "code",
   "execution_count": 6,
   "id": "ad6aac23",
   "metadata": {},
   "outputs": [
    {
     "name": "stdout",
     "output_type": "stream",
     "text": [
      "Enter the number to check it is armstrong or not : 370\n",
      "Given number is ARMSTRONG!!!\n"
     ]
    }
   ],
   "source": [
    "num = int(input('Enter the number to check it is armstrong or not : '))\n",
    "temp = num\n",
    "result_num = 0\n",
    "while temp > 0:\n",
    "    last_digit = temp % 10\n",
    "    result_num = result_num + last_digit**3\n",
    "    temp = temp//10\n",
    "if result_num == num:\n",
    "    print('Given number is ARMSTRONG!!!') #153,370\n",
    "else:\n",
    "    print('Given number is not armstrong...')"
   ]
  },
  {
   "cell_type": "markdown",
   "id": "abf5e815",
   "metadata": {},
   "source": [
    "### 3. Python program to check given number is prime or not"
   ]
  },
  {
   "cell_type": "code",
   "execution_count": 10,
   "id": "a2b83ef3",
   "metadata": {},
   "outputs": [
    {
     "name": "stdout",
     "output_type": "stream",
     "text": [
      "Enter the number to check prime or not : 13\n",
      "Given number is PRIME NUMBER!!!\n"
     ]
    }
   ],
   "source": [
    "num = int(input('Enter the number to check prime or not : '))\n",
    "\n",
    "if num < 0:\n",
    "    print('Enter the Positive number')\n",
    "elif num == 1:\n",
    "    print('1 is not a prime number')\n",
    "elif num >= 2:\n",
    "    for i in range(2,int(num/2)+1):\n",
    "        if num % i == 0:\n",
    "            print('Not a prime number')\n",
    "            break\n",
    "    else:\n",
    "        print('Given number is PRIME NUMBER!!!')"
   ]
  },
  {
   "cell_type": "markdown",
   "id": "06aba5fa",
   "metadata": {},
   "source": [
    "### 4. Python program to print Fibonacci series program in using Iterative methods"
   ]
  },
  {
   "cell_type": "code",
   "execution_count": 14,
   "id": "4018e1bc",
   "metadata": {},
   "outputs": [
    {
     "name": "stdout",
     "output_type": "stream",
     "text": [
      "Enter the number of fibonacci series : 5\n",
      "Fibonacci series : 0 1 1 2 3 "
     ]
    }
   ],
   "source": [
    "num = int(input('Enter the number of fibonacci series : '))\n",
    "n1,n2 = 0,1\n",
    "print('Fibonacci series :',n1,n2,end=\" \")\n",
    "for i in range(2,num):\n",
    "    n3 = n1 + n2\n",
    "    n1 = n2\n",
    "    n2 = n3\n",
    "    print(n3,end=\" \")"
   ]
  },
  {
   "cell_type": "markdown",
   "id": "0622b6b5",
   "metadata": {},
   "source": [
    "### 5. Python program to print Fibonacci series using recursive methods"
   ]
  },
  {
   "cell_type": "code",
   "execution_count": 15,
   "id": "4f2f4966",
   "metadata": {},
   "outputs": [
    {
     "name": "stdout",
     "output_type": "stream",
     "text": [
      "Enter the number of fibonacci series : 5\n",
      "Fibonacci series :\n",
      "0\n",
      "1\n",
      "1\n",
      "2\n",
      "3\n"
     ]
    }
   ],
   "source": [
    "def fibonacci(num):\n",
    "    if num <= 1:\n",
    "        return num\n",
    "    else:\n",
    "        return (fibonacci(num-1) + fibonacci(num-2))\n",
    "num = int(input('Enter the number of fibonacci series : '))\n",
    "if num <= 0:\n",
    "    print('Enter a positive number')\n",
    "else:\n",
    "    print('Fibonacci series :\\n',end=\"\")\n",
    "for i in range(num):\n",
    "    print(fibonacci(i))"
   ]
  },
  {
   "cell_type": "markdown",
   "id": "8d659030",
   "metadata": {},
   "source": [
    "### 6. Python program for palindrome number using iterative method"
   ]
  },
  {
   "cell_type": "code",
   "execution_count": 18,
   "id": "9b968db3",
   "metadata": {},
   "outputs": [
    {
     "name": "stdout",
     "output_type": "stream",
     "text": [
      "Enter the number to check whether a number is palindrome : 3773\n",
      "Given number is palimdrome\n"
     ]
    }
   ],
   "source": [
    "num = int(input('Enter the number to check whether a number is palindrome : '))\n",
    "temp = num\n",
    "reverse_num = 0\n",
    "while temp > 0:\n",
    "    last_digit = temp % 10\n",
    "    reverse_num = reverse_num * 10 + last_digit\n",
    "    temp = temp//10\n",
    "\n",
    "if reverse_num == num:\n",
    "    print('Given number is palimdrome')\n",
    "else:\n",
    "    print('Given number is not palindrome')"
   ]
  },
  {
   "cell_type": "markdown",
   "id": "1100c9c6",
   "metadata": {},
   "source": [
    "### 7. Python program for palindrome number using recursive method"
   ]
  },
  {
   "cell_type": "code",
   "execution_count": 25,
   "id": "edd0b7af",
   "metadata": {},
   "outputs": [
    {
     "name": "stdout",
     "output_type": "stream",
     "text": [
      "Enter the number : 123\n",
      "Given number is not palimdrome\n"
     ]
    }
   ],
   "source": [
    "num = int(input('Enter the number : '))\n",
    "\n",
    "def palindrome(num,rev=0):\n",
    "    if num == 0:\n",
    "        return rev\n",
    "    rev = rev*10+(num%10)\n",
    "    rev = palindrome(num//10,rev)\n",
    "    return rev\n",
    "\n",
    "temp = palindrome(num)\n",
    "\n",
    "if temp == num:\n",
    "    print('Given number is palimdrome')\n",
    "else:\n",
    "    print('Given number is not palimdrome')"
   ]
  },
  {
   "cell_type": "markdown",
   "id": "a915c370",
   "metadata": {},
   "source": [
    "### 8. Python program to find greatest of three numbers"
   ]
  },
  {
   "cell_type": "code",
   "execution_count": 27,
   "id": "178df676",
   "metadata": {},
   "outputs": [
    {
     "name": "stdout",
     "output_type": "stream",
     "text": [
      "Enter the number seperated by space : 10 20 5\n",
      "n2 is the greatest number\n"
     ]
    }
   ],
   "source": [
    "n1,n2,n3 = map(int,input('Enter the number seperated by space : ').split())\n",
    "\n",
    "if n1>n2 and n1>n3:\n",
    "    print('n1 is the greatest number')\n",
    "elif n2>n1 and n2>n3:\n",
    "    print('n2 is the greatest number')\n",
    "else:\n",
    "    print('n3 is the greatest number')"
   ]
  },
  {
   "cell_type": "markdown",
   "id": "d370f4b2",
   "metadata": {},
   "source": [
    "### 9. Program to check given number representation is in binary or not"
   ]
  },
  {
   "cell_type": "code",
   "execution_count": 30,
   "id": "a2345c0a",
   "metadata": {},
   "outputs": [
    {
     "name": "stdout",
     "output_type": "stream",
     "text": [
      "Enter the number : 1101\n",
      "Number is BINARY\n"
     ]
    }
   ],
   "source": [
    "num = int(input('Enter the number : '))\n",
    "\n",
    "def check_binary(num):\n",
    "    if num ==0 or num == 1 or num <0:\n",
    "        return 'Not a Binary number'\n",
    "    while num != 0:\n",
    "        if num % 10 > 1:\n",
    "            return 'Not a Binary number'\n",
    "        num//=10\n",
    "    else:\n",
    "        return 'Number is BINARY'\n",
    "print(check_binary(num))"
   ]
  },
  {
   "cell_type": "markdown",
   "id": "b65ac1ed",
   "metadata": {},
   "source": [
    "### 10. Python to find sum of digits of a number using recursion?"
   ]
  },
  {
   "cell_type": "code",
   "execution_count": 32,
   "id": "57e47d2e",
   "metadata": {},
   "outputs": [
    {
     "name": "stdout",
     "output_type": "stream",
     "text": [
      "Enter the number : 1235\n",
      "Sum of digit is : 11\n"
     ]
    }
   ],
   "source": [
    "num = int(input('Enter the number : '))\n",
    "\n",
    "def sum_of_digits(num):\n",
    "    if num == 0:\n",
    "        return num\n",
    "    return (num%10 + sum_of_digits(num//10))\n",
    "\n",
    "print('Sum of digit is :',sum_of_digits(num))"
   ]
  },
  {
   "cell_type": "markdown",
   "id": "3eab10b3",
   "metadata": {},
   "source": [
    "### 11. Python program to swap two number without using third variable"
   ]
  },
  {
   "cell_type": "code",
   "execution_count": 1,
   "id": "fe9ec46b",
   "metadata": {},
   "outputs": [
    {
     "name": "stdout",
     "output_type": "stream",
     "text": [
      "Enter 2 number seperated by space : 12 15\n",
      "n1 = 15 and n2 = 12\n"
     ]
    }
   ],
   "source": [
    "def swap_number(n1,n2):\n",
    "    n1,n2 = n2,n1\n",
    "    print(f'n1 = {n1} and n2 = {n2}')\n",
    "    \n",
    "n1,n2 = map(int,input('Enter 2 number seperated by space : ').split())\n",
    "\n",
    "swap_number(n1,n2)"
   ]
  },
  {
   "cell_type": "markdown",
   "id": "cad7ea5a",
   "metadata": {},
   "source": [
    "### 12. Swapping of two numbers using third variable in Python language"
   ]
  },
  {
   "cell_type": "code",
   "execution_count": 2,
   "id": "091127e8",
   "metadata": {},
   "outputs": [
    {
     "name": "stdout",
     "output_type": "stream",
     "text": [
      "Enter 1st number : 26\n",
      "Enter 2nd number : 52\n",
      "n1 = 52, n2 = 26\n"
     ]
    }
   ],
   "source": [
    "def swap_number(n1,n2):\n",
    "    temp = n1\n",
    "    n1 = n2\n",
    "    n2 = temp\n",
    "    print(f'n1 = {n1}, n2 = {n2}')\n",
    "\n",
    "n1 = int(input('Enter 1st number : '))\n",
    "n2 = int(input('Enter 2nd number : '))\n",
    "\n",
    "swap_number(n1,n2)"
   ]
  },
  {
   "cell_type": "markdown",
   "id": "2c6a8591",
   "metadata": {},
   "source": [
    "### 13. program in Python to find prime factors of a given integer."
   ]
  },
  {
   "cell_type": "code",
   "execution_count": 4,
   "id": "87e79529",
   "metadata": {},
   "outputs": [
    {
     "name": "stdout",
     "output_type": "stream",
     "text": [
      "Enter the number to get prime factor : 100\n",
      "Prime factors of given number are : [2, 2, 5, 5]\n"
     ]
    }
   ],
   "source": [
    "def get_prime_factor(num):\n",
    "    prime_factor = []\n",
    "    while num > 0:\n",
    "        for i in range(2,int(num/2)+1):\n",
    "            if num % i == 0:\n",
    "                prime_factor.append(i)\n",
    "                num = num // i\n",
    "                break\n",
    "            else:\n",
    "                continue\n",
    "        else:\n",
    "            prime_factor.append(num)\n",
    "            break\n",
    "    return prime_factor\n",
    "\n",
    "num = int(input('Enter the number to get prime factor : '))\n",
    "print('Prime factors of given number are :',get_prime_factor(num))"
   ]
  },
  {
   "cell_type": "markdown",
   "id": "f6876d12",
   "metadata": {},
   "source": [
    "### 14. Write a program in Python to add two integer without using arithmetic operator?"
   ]
  },
  {
   "cell_type": "code",
   "execution_count": 6,
   "id": "f2b72596",
   "metadata": {},
   "outputs": [
    {
     "name": "stdout",
     "output_type": "stream",
     "text": [
      "Enter the 1st number : 200\n",
      "Enter the 2nd number : 300\n",
      "Addition of 2 number without operator : 500\n"
     ]
    }
   ],
   "source": [
    "num1 = int(input('Enter the 1st number : '))\n",
    "num2 = int(input('Enter the 2nd number : '))\n",
    "\n",
    "def addition_witout_operator(n1,n2):\n",
    "    while n2 != 0:\n",
    "        c = n1 & n2\n",
    "        n1 = n1 ^ n2\n",
    "        n2 = c << 1\n",
    "    return n1\n",
    "\n",
    "print('Addition of 2 number without operator :',addition_witout_operator(num1,num2))"
   ]
  },
  {
   "cell_type": "markdown",
   "id": "6fbeb902",
   "metadata": {},
   "source": [
    "### 15. program to check a given number is perfect or not in Python\n",
    "\n",
    "perfect number is any number whose factor addition sum is same as that of number"
   ]
  },
  {
   "cell_type": "code",
   "execution_count": 13,
   "id": "3ae8d760",
   "metadata": {},
   "outputs": [
    {
     "name": "stdout",
     "output_type": "stream",
     "text": [
      "Enter the number to check wheather it is perfect or not : 28\n",
      "Given number is perfect number\n"
     ]
    }
   ],
   "source": [
    "num = int(input('Enter the number to check wheather it is perfect or not : '))\n",
    "addition = 0\n",
    "\n",
    "for i in range(1,num):\n",
    "    if num % i == 0:\n",
    "        addition += i\n",
    "        \n",
    "if addition == num:\n",
    "    print('Given number is perfect number')\n",
    "else:\n",
    "    print('Given number is not perfect number....')"
   ]
  },
  {
   "cell_type": "markdown",
   "id": "f3fd6626",
   "metadata": {},
   "source": [
    "### 16. Python Program to find the Average of numbers with explanations."
   ]
  },
  {
   "cell_type": "code",
   "execution_count": 14,
   "id": "155ed98c",
   "metadata": {},
   "outputs": [
    {
     "name": "stdout",
     "output_type": "stream",
     "text": [
      "Average of numbers is : 56.6\n"
     ]
    }
   ],
   "source": [
    "numbers = [12,53,87,33,98]\n",
    "avg = sum(numbers)/len(numbers)\n",
    "print('Average of numbers is :',avg)"
   ]
  },
  {
   "cell_type": "markdown",
   "id": "66f1fa13",
   "metadata": {},
   "source": [
    "### 17. Python Program to calculate factorial using iterative method."
   ]
  },
  {
   "cell_type": "code",
   "execution_count": 15,
   "id": "7d02d36a",
   "metadata": {},
   "outputs": [
    {
     "name": "stdout",
     "output_type": "stream",
     "text": [
      "Enter the number for factorial : 5\n",
      "The factorial of number 5 is : 120\n"
     ]
    }
   ],
   "source": [
    "num = int(input('Enter the number for factorial : '))\n",
    "fact = 1\n",
    "\n",
    "for i in range(1,num+1):\n",
    "    fact = fact * i\n",
    "    \n",
    "print('The factorial of number',num,'is :',fact)"
   ]
  },
  {
   "cell_type": "markdown",
   "id": "f1312ea8",
   "metadata": {},
   "source": [
    "### 18. Python programme to calculate factorial using recursion."
   ]
  },
  {
   "cell_type": "code",
   "execution_count": 18,
   "id": "52a8933f",
   "metadata": {},
   "outputs": [
    {
     "name": "stdout",
     "output_type": "stream",
     "text": [
      "Enter the number : 6\n",
      "Factorial of number 6 is : 720\n"
     ]
    }
   ],
   "source": [
    "def factorial(num):\n",
    "    if num == 1:\n",
    "        return 1\n",
    "    else:\n",
    "        return (num * factorial(num-1))\n",
    "\n",
    "num = int(input('Enter the number : '))\n",
    "\n",
    "if num < 0:\n",
    "    print('Enter positive number')\n",
    "elif num == 0:\n",
    "    print('Factorial of 0 is 1')\n",
    "else:\n",
    "    print('Factorial of number',num,'is :',factorial(num))"
   ]
  },
  {
   "cell_type": "markdown",
   "id": "6b90a3b6",
   "metadata": {},
   "source": [
    "### 19. Python programme cheque number is even or odd"
   ]
  },
  {
   "cell_type": "code",
   "execution_count": 20,
   "id": "d45c94b5",
   "metadata": {},
   "outputs": [
    {
     "name": "stdout",
     "output_type": "stream",
     "text": [
      "Enter the number : 30\n",
      "The number is EVEN\n"
     ]
    }
   ],
   "source": [
    "def odd_even(num):\n",
    "    if num % 2 == 0:\n",
    "        print('The number is EVEN')\n",
    "    else:\n",
    "        print('The number is ODD')\n",
    "        \n",
    "num = int(input('Enter the number : '))\n",
    "\n",
    "odd_even(num)"
   ]
  },
  {
   "cell_type": "markdown",
   "id": "a1c00429",
   "metadata": {},
   "source": [
    "### 20. Python programme for first N Prime numbers"
   ]
  },
  {
   "cell_type": "code",
   "execution_count": 23,
   "id": "a77fb101",
   "metadata": {},
   "outputs": [
    {
     "name": "stdout",
     "output_type": "stream",
     "text": [
      "Enter the 1st number : 0\n",
      "Enter the 2nd number : 100\n",
      "Prime numbers are : [2, 3, 5, 7, 11, 13, 17, 19, 23, 29, 31, 37, 41, 43, 47, 53, 59, 61, 67, 71, 73, 79, 83, 89, 97]\n"
     ]
    }
   ],
   "source": [
    "def get_prime_numbers(n1,n2):\n",
    "    prime_list = []\n",
    "    for i in range(n1,n2+1):\n",
    "        if i == 0 or i == 1:\n",
    "            continue\n",
    "        else:\n",
    "            for j in range(2,int(i/2)+1):\n",
    "                if i % j == 0:\n",
    "                    break\n",
    "            else:\n",
    "                prime_list.append(i)\n",
    "    return prime_list\n",
    "\n",
    "num1 = int(input('Enter the 1st number : '))\n",
    "num2 = int(input('Enter the 2nd number : '))\n",
    "prime_numbers = get_prime_numbers(num1,num2)\n",
    "\n",
    "if prime_numbers == 0:\n",
    "    print('There are no prime numbers')\n",
    "else:\n",
    "    print('Prime numbers are :',prime_numbers)"
   ]
  },
  {
   "cell_type": "markdown",
   "id": "fa8d20c7",
   "metadata": {},
   "source": [
    "### 21. Python program to find smallest number among three"
   ]
  },
  {
   "cell_type": "code",
   "execution_count": 1,
   "id": "8bcd6a62",
   "metadata": {},
   "outputs": [
    {
     "name": "stdout",
     "output_type": "stream",
     "text": [
      "Enter the 3 number seperated by space : 25 63 85\n",
      "The smallest number is : 25\n"
     ]
    }
   ],
   "source": [
    "num1,num2,num3 = map(int,input('Enter the 3 number seperated by space : ').split())\n",
    "\n",
    "print('The smallest number is :',min(num1,num2,num3))"
   ]
  },
  {
   "cell_type": "markdown",
   "id": "b87e66c9",
   "metadata": {},
   "source": [
    "### 22. Python program to calculate the power using ‘pow()’ method"
   ]
  },
  {
   "cell_type": "code",
   "execution_count": 2,
   "id": "cd866bca",
   "metadata": {},
   "outputs": [
    {
     "name": "stdout",
     "output_type": "stream",
     "text": [
      "Enter the number and power seperated by space : 2 5\n",
      "The number is 2 power is 5 and answer is 32\n"
     ]
    }
   ],
   "source": [
    "num1,power = map(int,input('Enter the number and power seperated by space : ').split())\n",
    "\n",
    "print('The number is',num1,'power is',power,'and answer is',pow(num1,power))"
   ]
  },
  {
   "cell_type": "markdown",
   "id": "e2979930",
   "metadata": {},
   "source": [
    "### 23. Python Program to calculate the power without using POW function.(using for loop)."
   ]
  },
  {
   "cell_type": "code",
   "execution_count": 6,
   "id": "b465fbd6",
   "metadata": {},
   "outputs": [
    {
     "name": "stdout",
     "output_type": "stream",
     "text": [
      "Enter the number : 4\n",
      "Enter the power : 3\n",
      "The answer is : 64\n"
     ]
    }
   ],
   "source": [
    "num1 = int(input('Enter the number : '))\n",
    "p = int(input('Enter the power : '))\n",
    "power = 1\n",
    "for i in range(p):\n",
    "    power = power * num1\n",
    "\n",
    "print('The answer is :',power)"
   ]
  },
  {
   "cell_type": "markdown",
   "id": "62fbbd74",
   "metadata": {},
   "source": [
    "### 24. Python Program to calculate the power without using POW function.(using while loop)."
   ]
  },
  {
   "cell_type": "code",
   "execution_count": 9,
   "id": "3471935d",
   "metadata": {},
   "outputs": [
    {
     "name": "stdout",
     "output_type": "stream",
     "text": [
      "Enter the number : 5\n",
      "Enter the power : 3\n",
      "3 power of number 5 is = 125\n"
     ]
    }
   ],
   "source": [
    "num = int(input('Enter the number : '))\n",
    "p = int(input('Enter the power : '))\n",
    "i = 1\n",
    "power = 1\n",
    "\n",
    "while i <= p:\n",
    "    power = power * num\n",
    "    i += 1\n",
    "\n",
    "print(f'{p} power of number {num} is =',power)"
   ]
  },
  {
   "cell_type": "markdown",
   "id": "a25fe58a",
   "metadata": {},
   "source": [
    "### 25. Python Program to calculate the square of a given number."
   ]
  },
  {
   "cell_type": "code",
   "execution_count": 10,
   "id": "3b40ce00",
   "metadata": {},
   "outputs": [
    {
     "name": "stdout",
     "output_type": "stream",
     "text": [
      "Enter the number : 20\n",
      "The square of 20 is : 400\n"
     ]
    }
   ],
   "source": [
    "num = int(input('Enter the number : '))\n",
    "\n",
    "print('The square of',num,'is :',(num**2))"
   ]
  },
  {
   "cell_type": "markdown",
   "id": "1270de31",
   "metadata": {},
   "source": [
    "### 26. Python Program to calculate the cube of a given number."
   ]
  },
  {
   "cell_type": "code",
   "execution_count": 11,
   "id": "75b01af7",
   "metadata": {},
   "outputs": [
    {
     "name": "stdout",
     "output_type": "stream",
     "text": [
      "Enter the number : 10\n",
      "The cube of number 10 is : 1000\n"
     ]
    }
   ],
   "source": [
    "num = int(input('Enter the number : '))\n",
    "\n",
    "print('The cube of number',num,'is :',(num**3))"
   ]
  },
  {
   "cell_type": "markdown",
   "id": "0ac32308",
   "metadata": {},
   "source": [
    "### 27. Python Program to calculate the square root of a given number."
   ]
  },
  {
   "cell_type": "code",
   "execution_count": 12,
   "id": "84daf722",
   "metadata": {},
   "outputs": [
    {
     "name": "stdout",
     "output_type": "stream",
     "text": [
      "Enter the number : 36\n",
      "The square root of number 36 is : 6.0\n"
     ]
    }
   ],
   "source": [
    "num = int(input('Enter the number : '))\n",
    "\n",
    "print('The square root of number',num,'is :',(num**(1/2)))"
   ]
  },
  {
   "cell_type": "markdown",
   "id": "74fcfe1e",
   "metadata": {},
   "source": [
    "### 28. Python program to calculate LCM of given two numbers."
   ]
  },
  {
   "cell_type": "code",
   "execution_count": 13,
   "id": "7acc841e",
   "metadata": {},
   "outputs": [
    {
     "name": "stdout",
     "output_type": "stream",
     "text": [
      "Enter the 1st number : 15\n",
      "Enter the 2nd number : 5\n",
      "LCM is : 15\n"
     ]
    }
   ],
   "source": [
    "def get_lcm(num1,num2):\n",
    "    if num1 > num2:\n",
    "        large = num1\n",
    "    else:\n",
    "        large = num2\n",
    "    \n",
    "    while True:\n",
    "        if (large % num1 == 0) and (large % num2 == 0):\n",
    "            lcm = large\n",
    "            break\n",
    "        large += 1\n",
    "    return lcm\n",
    "\n",
    "num1 = int(input('Enter the 1st number : '))\n",
    "num2 = int(input('Enter the 2nd number : '))\n",
    "print('LCM is :',get_lcm(num1,num2))"
   ]
  },
  {
   "cell_type": "markdown",
   "id": "038c800c",
   "metadata": {},
   "source": [
    "### 29.Python Program to find GCD or HCF of two numbers."
   ]
  },
  {
   "cell_type": "code",
   "execution_count": 15,
   "id": "0e48f8a0",
   "metadata": {},
   "outputs": [
    {
     "name": "stdout",
     "output_type": "stream",
     "text": [
      "Enter 1st number : 12\n",
      "Enter 2nd number : 14\n",
      "HCF is : 2\n"
     ]
    }
   ],
   "source": [
    "def get_hcf(num1,num2):\n",
    "    if num1 > num2:\n",
    "        small = num2\n",
    "    else:\n",
    "        small = num1\n",
    "        \n",
    "    for i in range(1,small+1):\n",
    "        if (num1 % i == 0) and (num2 % i == 0):\n",
    "            hcf = i\n",
    "    return hcf\n",
    "\n",
    "num1 = int(input('Enter 1st number : '))\n",
    "num2 = int(input('Enter 2nd number : '))\n",
    "\n",
    "print('HCF is :',get_hcf(num1,num2))"
   ]
  },
  {
   "cell_type": "markdown",
   "id": "caf2494d",
   "metadata": {},
   "source": [
    "### 30. Python Program to find GCD of two numbers using recursion."
   ]
  },
  {
   "cell_type": "code",
   "execution_count": 19,
   "id": "f335d8cc",
   "metadata": {},
   "outputs": [
    {
     "name": "stdout",
     "output_type": "stream",
     "text": [
      "Enter the 1st number : 12\n",
      "Enter the 2nd number : 8\n",
      "HCF is 4\n"
     ]
    }
   ],
   "source": [
    "def hcf_recursion(n1,n2):\n",
    "    if n2 == 0:\n",
    "        return n1\n",
    "    return hcf_recursion(n2,n1 % n2)\n",
    "\n",
    "num1 = int(input('Enter the 1st number : '))\n",
    "num2 = int(input('Enter the 2nd number : '))\n",
    "\n",
    "print('HCF is',hcf_recursion(num1,num2))"
   ]
  },
  {
   "cell_type": "markdown",
   "id": "9bd9c289",
   "metadata": {},
   "source": [
    "### 31. Python Program to Convert Decimal Number into Binary."
   ]
  },
  {
   "cell_type": "code",
   "execution_count": 29,
   "id": "4acbeced",
   "metadata": {},
   "outputs": [
    {
     "name": "stdout",
     "output_type": "stream",
     "text": [
      "Enter decimal number : 34\n",
      "The binay number of 34 is :\n",
      "100010"
     ]
    }
   ],
   "source": [
    "def convert_to_binary(num):\n",
    "    if num > 1:\n",
    "        convert_to_binary(num//2)\n",
    "    print(num % 2,end = \"\")\n",
    "    \n",
    "num = int(input('Enter decimal number : '))\n",
    "\n",
    "print('The binay number of',num,'is :')\n",
    "convert_to_binary(num)"
   ]
  },
  {
   "cell_type": "markdown",
   "id": "91ecb651",
   "metadata": {},
   "source": [
    "### 32. Python Program to convert Decimal number to Octal number."
   ]
  },
  {
   "cell_type": "code",
   "execution_count": 31,
   "id": "a2205a26",
   "metadata": {},
   "outputs": [
    {
     "name": "stdout",
     "output_type": "stream",
     "text": [
      "Enter the decimal number : 34\n",
      "The binary number is : 0b100010\n",
      "The octal number is : 0o42\n",
      "The hexadecimal number is 0x22\n"
     ]
    }
   ],
   "source": [
    "num = int(input('Enter the decimal number : '))\n",
    "\n",
    "print('The binary number is :',bin(num))\n",
    "print('The octal number is :',oct(num))\n",
    "print('The hexadecimal number is',hex(num))"
   ]
  },
  {
   "cell_type": "markdown",
   "id": "53e10ea8",
   "metadata": {},
   "source": [
    "### 33. Python Program to check the given year is a leap year or not."
   ]
  },
  {
   "cell_type": "code",
   "execution_count": 33,
   "id": "bbfba0d2",
   "metadata": {},
   "outputs": [
    {
     "name": "stdout",
     "output_type": "stream",
     "text": [
      "Enter the year : 2024\n",
      "The year 2024 is leap year\n"
     ]
    }
   ],
   "source": [
    "def leapyear(year):\n",
    "    if ((year % 400 == 0) or (year % 100 != 0) and (year % 4 == 0)):\n",
    "        print(f'The year {year} is leap year')\n",
    "    else:\n",
    "        print(f'The year {year} is not leap year')\n",
    "        \n",
    "year = int(input('Enter the year : '))\n",
    "leapyear(year)"
   ]
  },
  {
   "cell_type": "markdown",
   "id": "b87047a7",
   "metadata": {},
   "source": [
    "### 34. Python Program to convert Celsius to Fahrenheit."
   ]
  },
  {
   "cell_type": "code",
   "execution_count": 35,
   "id": "6e77c310",
   "metadata": {},
   "outputs": [
    {
     "name": "stdout",
     "output_type": "stream",
     "text": [
      "Enter the temperature in celcious : 37.5\n",
      "37.5 celcious = 99.5 farenhit\n"
     ]
    }
   ],
   "source": [
    "celcious = float(input('Enter the temperature in celcious : '))\n",
    "\n",
    "farenhit = (celcious * 1.8) + 32\n",
    "\n",
    "print('%0.1f celcious = %0.1f farenhit'%(celcious,farenhit))"
   ]
  },
  {
   "cell_type": "markdown",
   "id": "23f3ec46",
   "metadata": {},
   "source": [
    "### 35. Python Program to convert Fahrenheit to Celsius."
   ]
  },
  {
   "cell_type": "code",
   "execution_count": 36,
   "id": "c52a7564",
   "metadata": {},
   "outputs": [
    {
     "name": "stdout",
     "output_type": "stream",
     "text": [
      "Enter the temprature in farenhit : 102\n",
      "102.0 farenhit = 38.9 celcious\n"
     ]
    }
   ],
   "source": [
    "farenhit = float(input('Enter the temprature in farenhit : '))\n",
    "\n",
    "celcious = (farenhit - 32) / 1.8\n",
    "\n",
    "print('%0.1f farenhit = %0.1f celcious'%(farenhit,celcious))"
   ]
  },
  {
   "cell_type": "markdown",
   "id": "d634f666",
   "metadata": {},
   "source": [
    "### 36. Python program to calculate Simple Interest."
   ]
  },
  {
   "cell_type": "code",
   "execution_count": 41,
   "id": "a8134fdd",
   "metadata": {},
   "outputs": [
    {
     "name": "stdout",
     "output_type": "stream",
     "text": [
      "Enter the principal amount : 10000\n",
      "Enter the time in years : 3\n",
      "Enter the % interest : 10\n",
      "Simple interest is : 3000.0\n",
      "Simple interestper year is : 1000.0\n"
     ]
    }
   ],
   "source": [
    "principal_amount = int(input('Enter the principal amount : '))\n",
    "time = float(input('Enter the time in years : '))\n",
    "interest = float(input('Enter the % interest : '))\n",
    "\n",
    "simple_interest = (principal_amount*time*interest)/100\n",
    "\n",
    "print('Simple interest is :',simple_interest)\n",
    "print('Simple interestper year is :',simple_interest/time)"
   ]
  },
  {
   "cell_type": "markdown",
   "id": "15a31bb2",
   "metadata": {},
   "source": [
    "### 37. Write a Python program to find the maximum of two numbers?"
   ]
  },
  {
   "cell_type": "code",
   "execution_count": 42,
   "id": "b058ec02",
   "metadata": {},
   "outputs": [
    {
     "name": "stdout",
     "output_type": "stream",
     "text": [
      "Enter the 1st number : 25\n",
      "Enter the 2nd number : 27\n",
      "The maximum number is : 27\n"
     ]
    }
   ],
   "source": [
    "num1 = int(input('Enter the 1st number : '))\n",
    "num2 = int(input('Enter the 2nd number : '))\n",
    "print('The maximum number is :',max(num1,num2))"
   ]
  },
  {
   "cell_type": "markdown",
   "id": "1702d3bd",
   "metadata": {},
   "source": [
    "### 38. Write a Python program to calculate the area of a triangle."
   ]
  },
  {
   "cell_type": "code",
   "execution_count": 44,
   "id": "2d917521",
   "metadata": {},
   "outputs": [
    {
     "name": "stdout",
     "output_type": "stream",
     "text": [
      "Enter the 3 sides of traingle seperated by space : 10 12 15\n",
      "The area of rectangle is : 59.81168364124187\n"
     ]
    }
   ],
   "source": [
    "s1,s2,s3 = map(int,input('Enter the 3 sides of traingle seperated by space : ').split())\n",
    "\n",
    "semi_perimeter = (s1 + s2 + s3)/2\n",
    "\n",
    "area = (semi_perimeter * (semi_perimeter - s1) * (semi_perimeter - s2) * (semi_perimeter - s3)) ** (1/2)\n",
    "\n",
    "print('The area of rectangle is :',area)"
   ]
  },
  {
   "cell_type": "markdown",
   "id": "f3872233",
   "metadata": {},
   "source": [
    "### 39. Write a Python program to display a multiplication table using for loop."
   ]
  },
  {
   "cell_type": "code",
   "execution_count": 45,
   "id": "84f28e8c",
   "metadata": {},
   "outputs": [
    {
     "name": "stdout",
     "output_type": "stream",
     "text": [
      "Enter the number for table which want : 5\n",
      "5 X 1 = 5\n",
      "5 X 2 = 10\n",
      "5 X 3 = 15\n",
      "5 X 4 = 20\n",
      "5 X 5 = 25\n",
      "5 X 6 = 30\n",
      "5 X 7 = 35\n",
      "5 X 8 = 40\n",
      "5 X 9 = 45\n",
      "5 X 10 = 50\n"
     ]
    }
   ],
   "source": [
    "table = int(input('Enter the number for table which want : '))\n",
    "\n",
    "for i in range(1,11):\n",
    "    print(table,'X',i,'=',table*i)"
   ]
  },
  {
   "cell_type": "markdown",
   "id": "ff1cc4ed",
   "metadata": {},
   "source": [
    "### 40. Write a Python program to find the area of a circle."
   ]
  },
  {
   "cell_type": "code",
   "execution_count": 46,
   "id": "0f709efb",
   "metadata": {},
   "outputs": [
    {
     "name": "stdout",
     "output_type": "stream",
     "text": [
      "Enter the radius of circle : 10\n",
      "The area of circle is : 314.1592653589793\n"
     ]
    }
   ],
   "source": [
    "from math import pi\n",
    "radius = int(input('Enter the radius of circle : '))\n",
    "\n",
    "area = pi * radius**2\n",
    "\n",
    "print('The area of circle is :',area)"
   ]
  },
  {
   "cell_type": "markdown",
   "id": "9a52f5fe",
   "metadata": {},
   "source": [
    "### 41. Write a Python program to display the calendar."
   ]
  },
  {
   "cell_type": "code",
   "execution_count": 49,
   "id": "5d3065ed",
   "metadata": {},
   "outputs": [
    {
     "name": "stdout",
     "output_type": "stream",
     "text": [
      "Enter the month : 4\n",
      "Enter the year : 2023\n",
      "     April 2023\n",
      "Mo Tu We Th Fr Sa Su\n",
      "                1  2\n",
      " 3  4  5  6  7  8  9\n",
      "10 11 12 13 14 15 16\n",
      "17 18 19 20 21 22 23\n",
      "24 25 26 27 28 29 30\n",
      "\n"
     ]
    }
   ],
   "source": [
    "import calendar\n",
    "\n",
    "month = int(input('Enter the month : '))\n",
    "year = int(input('Enter the year : '))\n",
    "\n",
    "print(calendar.month(year,month))"
   ]
  },
  {
   "cell_type": "code",
   "execution_count": null,
   "id": "e17530be",
   "metadata": {},
   "outputs": [],
   "source": []
  }
 ],
 "metadata": {
  "kernelspec": {
   "display_name": "Python 3 (ipykernel)",
   "language": "python",
   "name": "python3"
  },
  "language_info": {
   "codemirror_mode": {
    "name": "ipython",
    "version": 3
   },
   "file_extension": ".py",
   "mimetype": "text/x-python",
   "name": "python",
   "nbconvert_exporter": "python",
   "pygments_lexer": "ipython3",
   "version": "3.9.13"
  }
 },
 "nbformat": 4,
 "nbformat_minor": 5
}
